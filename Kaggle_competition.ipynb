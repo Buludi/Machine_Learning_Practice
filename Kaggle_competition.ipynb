{
  "nbformat": 4,
  "nbformat_minor": 0,
  "metadata": {
    "colab": {
      "name": "Kaggle_competition.ipynb",
      "provenance": [],
      "include_colab_link": true
    },
    "kernelspec": {
      "name": "python3",
      "display_name": "Python 3"
    }
  },
  "cells": [
    {
      "cell_type": "markdown",
      "metadata": {
        "id": "view-in-github",
        "colab_type": "text"
      },
      "source": [
        "<a href=\"https://colab.research.google.com/github/cyuancheng/Machine_Learning_Practice/blob/master/Kaggle_competition.ipynb\" target=\"_parent\"><img src=\"https://colab.research.google.com/assets/colab-badge.svg\" alt=\"Open In Colab\"/></a>"
      ]
    },
    {
      "cell_type": "code",
      "metadata": {
        "id": "uI-ahk04eH53",
        "colab_type": "code",
        "colab": {}
      },
      "source": [
        ""
      ],
      "execution_count": 0,
      "outputs": []
    },
    {
      "cell_type": "markdown",
      "metadata": {
        "id": "lJjHtsUTeJ8m",
        "colab_type": "text"
      },
      "source": [
        "#### K-fold cross-validation"
      ]
    },
    {
      "cell_type": "code",
      "metadata": {
        "id": "SIxq_QoeeMD_",
        "colab_type": "code",
        "colab": {}
      },
      "source": [
        "# Import KFold\n",
        "from sklearn.model_selection import KFold\n",
        "\n",
        "# Create a KFold object\n",
        "kf = KFold(n_splits=3, shuffle=True, random_state=123)\n",
        "\n",
        "# Loop through each split\n",
        "fold = 0\n",
        "for train_index, test_index in kf.split(train):\n",
        "    # Obtain training and testing folds\n",
        "    cv_train, cv_test = train.iloc[train_index], train.iloc[test_index]\n",
        "    print('Fold: {}'.format(fold))\n",
        "    print('CV train shape: {}'.format(cv_train.shape))\n",
        "    print('Medium interest listings in CV train: {}\\n'.format(sum(cv_train.interest_level == 'medium')))\n",
        "    fold += 1"
      ],
      "execution_count": 0,
      "outputs": []
    },
    {
      "cell_type": "markdown",
      "metadata": {
        "id": "QSywS8gaeRfQ",
        "colab_type": "text"
      },
      "source": [
        "#### Stratified K-fold"
      ]
    },
    {
      "cell_type": "code",
      "metadata": {
        "id": "j5Tg5ACFeVHB",
        "colab_type": "code",
        "colab": {}
      },
      "source": [
        "# Import StratifiedKFold\n",
        "from sklearn.model_selection import StratifiedKFold\n",
        "\n",
        "# Create a StratifiedKFold object\n",
        "str_kf = StratifiedKFold(n_splits=3, shuffle=True, random_state=123)\n",
        "\n",
        "# Loop through each split\n",
        "fold = 0\n",
        "for train_index, test_index in str_kf.split(train, train['interest_level']):\n",
        "    # Obtain training and testing folds\n",
        "    cv_train, cv_test = train.iloc[train_index], train.iloc[test_index]\n",
        "    print('Fold: {}'.format(fold))\n",
        "    print('CV train shape: {}'.format(cv_train.shape))\n",
        "    print('Medium interest listings in CV train: {}\\n'.format(sum(cv_train.interest_level == 'medium')))\n",
        "    fold += 1"
      ],
      "execution_count": 0,
      "outputs": []
    },
    {
      "cell_type": "markdown",
      "metadata": {
        "id": "9IPKZIKoeY47",
        "colab_type": "text"
      },
      "source": [
        "#### time K-fold cross validation\n",
        "training only on the past data and predicting the future. "
      ]
    },
    {
      "cell_type": "code",
      "metadata": {
        "id": "cC2XqIdrfD6P",
        "colab_type": "code",
        "colab": {}
      },
      "source": [
        "# Import TimeSeriesSplit\n",
        "from sklearn.model_selection import TimeSeriesSplit\n",
        "\n",
        "# Create TimeSeriesSplit object\n",
        "time_kfold = TimeSeriesSplit(n_splits=3)\n",
        "\n",
        "# Sort train data by date\n",
        "train = train.sort_values(\"date\")\n",
        "\n",
        "# Iterate through each split\n",
        "fold = 0\n",
        "for train_index, test_index in time_kfold.split(train):\n",
        "    cv_train, cv_test = train.iloc[train_index], train.iloc[test_index]\n",
        "    \n",
        "    print('Fold :', fold)\n",
        "    print('Train date range: from {} to {}'.format(cv_train.date.min(), cv_train.date.max()))\n",
        "    print('Test date range: from {} to {}\\n'.format(cv_test.date.min(), cv_test.date.max()))\n",
        "    fold += 1"
      ],
      "execution_count": 0,
      "outputs": []
    },
    {
      "cell_type": "markdown",
      "metadata": {
        "id": "AeBSy2_iiRbH",
        "colab_type": "text"
      },
      "source": [
        "### Feature engineering"
      ]
    },
    {
      "cell_type": "code",
      "metadata": {
        "id": "v_MxY4xQjv9O",
        "colab_type": "code",
        "colab": {}
      },
      "source": [
        ""
      ],
      "execution_count": 0,
      "outputs": []
    }
  ]
}