{
  "nbformat": 4,
  "nbformat_minor": 0,
  "metadata": {
    "colab": {
      "name": "ML interview.ipynb",
      "provenance": []
    },
    "kernelspec": {
      "name": "python3",
      "display_name": "Python 3"
    }
  },
  "cells": [
    {
      "cell_type": "code",
      "metadata": {
        "id": "Z0YUp7iDbRQe",
        "colab_type": "code",
        "colab": {}
      },
      "source": [
        ""
      ],
      "execution_count": 0,
      "outputs": []
    },
    {
      "cell_type": "markdown",
      "metadata": {
        "id": "sYvZYc0BjP6K",
        "colab_type": "text"
      },
      "source": [
        "## MissingDate"
      ]
    },
    {
      "cell_type": "markdown",
      "metadata": {
        "id": "hm2861iYcCU8",
        "colab_type": "text"
      },
      "source": [
        "select data type"
      ]
    },
    {
      "cell_type": "code",
      "metadata": {
        "id": "hYSDO451bvFN",
        "colab_type": "code",
        "colab": {}
      },
      "source": [
        "# numerical feature\n",
        "num_cols = loan_data.select_dtypes(include=['number'])\n",
        "num_cols = loan_data.select_dtypes(include=[np.number])\n",
        "# categorical deature\n",
        "cat_cols = loan_data.select_dtypes(include=['category'])\n",
        "\n",
        "cat_cols = loan_data.select_dtypes(include=[object])\n",
        "# datetime deature\n",
        "datetime_cols = loan_data.select_dtypes(include=['datetime'])\n"
      ],
      "execution_count": 0,
      "outputs": []
    },
    {
      "cell_type": "markdown",
      "metadata": {
        "id": "9Ngz3DUWc7Gd",
        "colab_type": "text"
      },
      "source": [
        "imputer"
      ]
    },
    {
      "cell_type": "code",
      "metadata": {
        "colab_type": "code",
        "id": "HB7ARFW9gKAZ",
        "colab": {}
      },
      "source": [
        "# Import imputer module\n",
        "from sklearn.impute import SimpleImputer\n",
        "\n",
        "# Subset numeric features: numeric_cols\n",
        "numeric_cols = loan_data.select_dtypes(include=[np.number])\n",
        "\n",
        "# Impute with mean\n",
        "imp_mean = SimpleImputer(strategy='mean')\n",
        "loans_imp_mean = imp_mean.fit_transform(numeric_cols)\n",
        "\n",
        "# Convert returned array to DataFrame\n",
        "loans_imp_meanDF = pd.DataFrame(loans_imp_mean, columns=numeric_cols.columns)\n",
        "\n",
        "# Check for missing values\n",
        "print(loans_imp_meanDF.info())"
      ],
      "execution_count": 0,
      "outputs": []
    },
    {
      "cell_type": "markdown",
      "metadata": {
        "id": "3lFbXY6sgLhT",
        "colab_type": "text"
      },
      "source": [
        "Iterative imputation (sklearn [document](https://scikit-learn.org/stable/modules/generated/sklearn.impute.IterativeImputer.html) )\n"
      ]
    },
    {
      "cell_type": "code",
      "metadata": {
        "id": "a8zGoB5agMTO",
        "colab_type": "code",
        "colab": {}
      },
      "source": [
        "from sklearn.experimental import enable_iterative_imputer\n",
        "from sklearn.impute import IterativeImputer\n",
        "\n",
        "# Subset numeric features: numeric_cols\n",
        "numeric_cols = loan_data.select_dtypes(include=[np.number])\n",
        "\n",
        "# Iteratively impute\n",
        "imp_iter = IterativeImputer(max_iter =5, sample_posterior=True, random_state=123)\n",
        "loans_imp_iter = imp_iter.fit_transform(numeric_cols )\n",
        "\n",
        "# Convert returned array to DataFrame\n",
        "loans_imp_iterDF = pd.DataFrame(loans_imp_iter, columns=numeric_cols.columns)\n"
      ],
      "execution_count": 0,
      "outputs": []
    },
    {
      "cell_type": "markdown",
      "metadata": {
        "id": "2BHyFYLYiWWM",
        "colab_type": "text"
      },
      "source": [
        "## Data distributions and transformations\n",
        "- train test split\n",
        "  - avoid train and test data set has different distribution \n",
        "- Log transform can normalize a feature which demonstrates a non-Gaussian distribution.\n"
      ]
    },
    {
      "cell_type": "code",
      "metadata": {
        "id": "w_WgpgWMjTxK",
        "colab_type": "code",
        "colab": {}
      },
      "source": [
        "# Create `loan_data` subset: loan_data_subset\n",
        "loan_data_subset = loan_data[['Credit Score','Annual Income','Loan Status']]\n",
        "\n",
        "# Create train and test sets\n",
        "trainingSet, testSet = train_test_split(loan_data_subset, test_size=0.2, random_state=123)\n",
        "\n",
        "# Examine pairplots (trainingSet and testSet have different distributions)\n",
        "plt.figure()\n",
        "sns.pairplot(trainingSet, hue='Loan Status', palette='RdBu')\n",
        "plt.show()\n",
        "\n",
        "plt.figure()\n",
        "sns.pairplot(testSet, hue='Loan Status', palette='RdBu')\n",
        "plt.show()"
      ],
      "execution_count": 0,
      "outputs": []
    },
    {
      "cell_type": "markdown",
      "metadata": {
        "id": "SqthXgWFmqIh",
        "colab_type": "text"
      },
      "source": [
        "xxx"
      ]
    },
    {
      "cell_type": "code",
      "metadata": {
        "id": "0FX42S66nWCk",
        "colab_type": "code",
        "colab": {}
      },
      "source": [
        "# Subset loan_data\n",
        "cr_yrs = loan_data['Years of Credit History']\n",
        "\n",
        "# Histogram and kernel density estimate\n",
        "plt.figure()\n",
        "#sns.kdeplot(cr_yrs)\n",
        "sns.distplot(cr_yrs)\n",
        "plt.show()"
      ],
      "execution_count": 0,
      "outputs": []
    },
    {
      "cell_type": "code",
      "metadata": {
        "id": "juWjT6GCoLj7",
        "colab_type": "code",
        "outputId": "34f98655-0307-4356-d0d0-e7c473e94800",
        "colab": {
          "base_uri": "https://localhost:8080/",
          "height": 303
        }
      },
      "source": [
        "## In this notebook I talk about scaling and normalizing data. \n",
        "## This minimal example shows how to use a Box Cox transformation to normalize both trianing and testing data. :)\n",
        "  \n",
        "# import modules\n",
        "import numpy as np\n",
        "from scipy import stats\n",
        "from sklearn.model_selection import train_test_split\n",
        "\n",
        "# plotting modules\n",
        "import seaborn as sns\n",
        "import matplotlib.pyplot as plt\n",
        "\n",
        "# generate non-normal data\n",
        "original_data = np.random.exponential(size = 1000)\n",
        "\n",
        "# split into testing & training data\n",
        "train,test = train_test_split(original_data, shuffle=False)\n",
        "\n",
        "# transform training data & save lambda value\n",
        "train_data,fitted_lambda = stats.boxcox(train)\n",
        "\n",
        "# use lambda value to transform test data\n",
        "test_data = stats.boxcox(test, fitted_lambda)\n",
        "\n",
        "print('lambda=',fitted_lambda)\n",
        "# (optional) plot train & test\n",
        "fig, ax=plt.subplots(1,2)\n",
        "sns.distplot(train, ax=ax[0])\n",
        "sns.distplot(test, ax=ax[1])\n",
        "\n"
      ],
      "execution_count": 0,
      "outputs": [
        {
          "output_type": "stream",
          "text": [
            "lambda= 0.26634987332648186\n"
          ],
          "name": "stdout"
        },
        {
          "output_type": "execute_result",
          "data": {
            "text/plain": [
              "<matplotlib.axes._subplots.AxesSubplot at 0x7f21504fb780>"
            ]
          },
          "metadata": {
            "tags": []
          },
          "execution_count": 22
        },
        {
          "output_type": "display_data",
          "data": {
            "image/png": "[encoded data removed]",
            "text/plain": [
              "<Figure size 432x288 with 2 Axes>"
            ]
          },
          "metadata": {
            "tags": []
          }
        }
      ]
    },
    {
      "cell_type": "code",
      "metadata": {
        "id": "qMRQ9Wksoygv",
        "colab_type": "code",
        "outputId": "775aaf99-93e4-428b-c858-91c63a88aec6",
        "colab": {
          "base_uri": "https://localhost:8080/",
          "height": 286
        }
      },
      "source": [
        "fig, ax=plt.subplots(1,2)\n",
        "sns.distplot(train_data, ax=ax[0])\n",
        "sns.distplot(test_data, ax=ax[1])"
      ],
      "execution_count": 0,
      "outputs": [
        {
          "output_type": "execute_result",
          "data": {
            "text/plain": [
              "<matplotlib.axes._subplots.AxesSubplot at 0x7f2150e56ef0>"
            ]
          },
          "metadata": {
            "tags": []
          },
          "execution_count": 8
        },
        {
          "output_type": "display_data",
          "data": {
            "image/png": "[encoded data removed]",
            "text/plain": [
              "<Figure size 432x288 with 2 Axes>"
            ]
          },
          "metadata": {
            "tags": []
          }
        }
      ]
    },
    {
      "cell_type": "code",
      "metadata": {
        "id": "qStLApeaoiyg",
        "colab_type": "code",
        "colab": {}
      },
      "source": [
        "# Subset loan_data\n",
        "cr_yrs = loan_data['Years of Credit History']\n",
        "\n",
        "# Box-Cox transformation\n",
        "cr_yrs_log = stats.boxcox(cr_yrs, lmbda=0)\n",
        "\n",
        "# Histogram and kernel density estimate\n",
        "plt.figure()\n",
        "sns.distplot(cr_yrs_log)\n",
        "plt.show()"
      ],
      "execution_count": 0,
      "outputs": []
    },
    {
      "cell_type": "markdown",
      "metadata": {
        "id": "AsfyFlKiznOA",
        "colab_type": "text"
      },
      "source": [
        "### Outlier\n",
        "- Detect outliers is by visualizing them graphically\n",
        "  - use sns.boxplot to visualizing outliers \n",
        "  - IQR\n",
        "  - 3Q +/- 1.5 IQR --> outliner\n",
        "  - Another convenient way for handling outliers is by calculating the Z-score which gives a threshold for outliers approximately +/-3 standard deviations away from the mean.\n",
        "  - calculating the Z-score using the scipy.stats module, omitting as well as replacing outliers using the mstats module from scipy.stats.\n",
        "\n",
        "\n"
      ]
    },
    {
      "cell_type": "code",
      "metadata": {
        "id": "E5P93YF24Mrz",
        "colab_type": "code",
        "colab": {}
      },
      "source": [
        "import scipy.stats \n",
        "\n",
        "# Print: before dropping\n",
        "print(numeric_cols.mean())\n",
        "print(numeric_cols.median())\n",
        "print(numeric_cols.max())\n",
        "\n",
        "# Create index of rows to keep\n",
        "idx = (np.abs(stats.zscore(numeric_cols)) < 3).all(axis=1)  # filter zscore <3 in numerical features\n",
        "\n",
        "# Concatenate numeric and categoric subsets\n",
        "ld_out_drop = pd.concat([numeric_cols.loc[idx], categoric_cols.loc[idx]], axis=1)"
      ],
      "execution_count": 0,
      "outputs": []
    },
    {
      "cell_type": "code",
      "metadata": {
        "id": "nM0lqvts8NsH",
        "colab_type": "code",
        "colab": {}
      },
      "source": [
        "### Winsorize Monthly Debt with 5% upper and lower limits and print the mean, median and max before and after.\n",
        "\n",
        "# Print: before winsorize\n",
        "print((loan_data['Monthly Debt']).mean())\n",
        "print((loan_data['Monthly Debt']).median())\n",
        "print((loan_data['Monthly Debt']).max())\n",
        "\n",
        "# Winsorize numeric columns\n",
        "debt_win = mstats.winsorize(loan_data['Monthly Debt'], limits=[0.05, 0.05])\n",
        "\n",
        "# Convert to DataFrame, reassign column name\n",
        "debt_out = pd.DataFrame(debt_win, columns=['Monthly Debt'])\n",
        "\n",
        "# Print: after winsorize\n",
        "print(debt_out.mean())\n",
        "print(debt_out.median())\n",
        "print(debt_out.max())"
      ],
      "execution_count": 0,
      "outputs": []
    },
    {
      "cell_type": "code",
      "metadata": {
        "id": "dIxsZ_h-9Lms",
        "colab_type": "code",
        "colab": {}
      },
      "source": [
        "##Find the median of the values of Monthly Debt that are lower than 2120 and replace outliers with it\n",
        "# Print: before replace with median\n",
        "print((loan_data['Monthly Debt']).mean())\n",
        "print((loan_data['Monthly Debt']).median())\n",
        "print((loan_data['Monthly Debt']).max())\n",
        "\n",
        "# Find median\n",
        "median = loan_data.loc[loan_data['Monthly Debt'] < 2120, 'Monthly Debt'].median()\n",
        "loan_data['Monthly Debt'] = np.where(loan_data['Monthly Debt'] > 2120, median, loan_data['Monthly Debt'])\n",
        "\n",
        "print((loan_data['Monthly Debt']).mean())\n",
        "print((loan_data['Monthly Debt']).median())\n",
        "print((loan_data['Monthly Debt']).max())"
      ],
      "execution_count": 0,
      "outputs": []
    },
    {
      "cell_type": "markdown",
      "metadata": {
        "id": "oDSbCdXD4BKK",
        "colab_type": "text"
      },
      "source": [
        "- standardization\n",
        "(Z score)\n",
        "- normalization"
      ]
    },
    {
      "cell_type": "code",
      "metadata": {
        "id": "zQmrZKZO4O3q",
        "colab_type": "code",
        "colab": {}
      },
      "source": [
        "# Z-score standardization\n",
        "# Subset features\n",
        "numeric_cols = loan_data.select_dtypes(include=[np.number])\n",
        "categoric_cols = loan_data.select_dtypes(include=[object])\n",
        "\n",
        "# Instantiate\n",
        "scaler = StandardScaler()\n",
        "\n",
        "# Fit and transform, convert to DF\n",
        "numeric_cols_scaled = scaler.fit_transform(numeric_cols)\n",
        "numeric_cols_scaledDF = pd.DataFrame(numeric_cols_scaled, columns=numeric_cols.columns)\n",
        "\n",
        "# Concatenate categoric columns to scaled numeric columns\n",
        "final_DF = pd.concat([numeric_cols_scaledDF, categoric_cols], axis=1)\n",
        "print(final_DF.head())\n"
      ],
      "execution_count": 0,
      "outputs": []
    },
    {
      "cell_type": "markdown",
      "metadata": {
        "id": "YaaahUdBB4o3",
        "colab_type": "text"
      },
      "source": [
        "### Regression: feature selection\n",
        "\n",
        "Feature selection methods\n",
        "- Filter: Rank features based on statistical performance\n",
        "- Wrapper: Use an ML method to evaluate performance\n",
        "- Embedded: Iterative modeltraining to extract features\n",
        "- Feature importance:tree-based ML models\n",
        "\n",
        "\n",
        "1) Filter method: correlation\n",
        "- Create correlation matrix with diabetes and a heatmap, then subset the features which have greater than 50% correlation."
      ]
    },
    {
      "cell_type": "code",
      "metadata": {
        "id": "55oWa4_xJ2xc",
        "colab_type": "code",
        "colab": {}
      },
      "source": [
        "# Create correlation matrix and print it\n",
        "cor = diabetes.corr()\n",
        "print(cor)\n",
        "\n",
        "# Correlation matrix heatmap\n",
        "plt.figure()\n",
        "sns.heatmap(cor, annot=True, cmap=plt.cm.Reds)\n",
        "plt.show()\n",
        "\n",
        "#Correlation with output variable\n",
        "cor_target = abs(cor[\"progression\"])\n",
        "\n",
        "#Selecting highly correlated features\n",
        "best_features = cor_target[cor_target> 0.5]\n",
        "print(best_features)"
      ],
      "execution_count": 0,
      "outputs": []
    },
    {
      "cell_type": "markdown",
      "metadata": {
        "id": "vweoBIxhRb6q",
        "colab_type": "text"
      },
      "source": [
        "2) wrapper methods: feature selection using RFECV\n",
        "- Instantiate a linear kernel SVR estimator and a feature selector with 5 cross-validations, fit to features and target."
      ]
    },
    {
      "cell_type": "code",
      "metadata": {
        "id": "qvhwZFsWRbH0",
        "colab_type": "code",
        "colab": {}
      },
      "source": [
        "# Import modules\n",
        "from sklearn.svm import SVR\n",
        "from sklearn.feature_selection import RFECV\n",
        "\n",
        "# Instantiate estimator and feature selector\n",
        "svr_mod = SVR(kernel=\"linear\")\n",
        "feat_selector = RFECV(svr_mod, cv=5)\n",
        "\n",
        "# Fit\n",
        "feat_selector = feat_selector.fit(X, y)\n",
        "\n",
        "# Print support and ranking\n",
        "print(feat_selector.support_)\n",
        "print(feat_selector.ranking_)\n",
        "print(X.columns)"
      ],
      "execution_count": 0,
      "outputs": []
    },
    {
      "cell_type": "markdown",
      "metadata": {
        "id": "z1_Asw8mR538",
        "colab_type": "text"
      },
      "source": [
        "3) Lasso \n",
        "- Drop the unimportant column found in step 2 from X and instantiate a LarsCV object and fit it to your data."
      ]
    },
    {
      "cell_type": "code",
      "metadata": {
        "id": "fOKvDcqdSUar",
        "colab_type": "code",
        "colab": {}
      },
      "source": [
        "# Import modules\n",
        "from sklearn.linear_model import LarsCV\n",
        "\n",
        "# Drop feature suggested not important in step 2\n",
        "X = diabetes.drop('sex', axis=1)\n",
        "\n",
        "# Instantiate\n",
        "lars_mod = LarsCV(cv=5, normalize=False)\n",
        "\n",
        "# Fit\n",
        "feat_selector = lars_mod.fit(X, y)\n",
        "\n",
        "# Print r-squared score and estimated alpha\n",
        "print(lars_mod.score(X, y))\n",
        "print(lars_mod.alpha_)"
      ],
      "execution_count": 0,
      "outputs": []
    },
    {
      "cell_type": "markdown",
      "metadata": {
        "id": "fhIvVdPRSl8r",
        "colab_type": "text"
      },
      "source": [
        "4) tree based method (better method!)\n"
      ]
    },
    {
      "cell_type": "code",
      "metadata": {
        "id": "hR5DHCTqTeit",
        "colab_type": "code",
        "colab": {}
      },
      "source": [
        "# Import\n",
        "from sklearn.ensemble import RandomForestRegressor\n",
        "\n",
        "# Instantiate\n",
        "rf_mod = RandomForestRegressor(max_depth=2, random_state=123, \n",
        "              n_estimators=100, oob_score=True)\n",
        "\n",
        "# Fit\n",
        "rf_mod.fit(X, y)\n",
        "\n",
        "# Print\n",
        "print(diabetes.columns)\n",
        "print(rf_mod.feature_importances_)"
      ],
      "execution_count": 0,
      "outputs": []
    },
    {
      "cell_type": "code",
      "metadata": {
        "id": "CZel6wb-Uj4b",
        "colab_type": "code",
        "colab": {}
      },
      "source": [
        "# Import\n",
        "from sklearn.ensemble import ExtraTreesRegressor\n",
        "\n",
        "# Instantiate\n",
        "xt_mod = ExtraTreesRegressor()\n",
        "\n",
        "# Fit\n",
        "xt_mod.fit(X,y)\n",
        "\n",
        "# Print\n",
        "print(diabetes.columns)\n",
        "print(xt_mod.feature_importances_)"
      ],
      "execution_count": 0,
      "outputs": []
    },
    {
      "cell_type": "markdown",
      "metadata": {
        "id": "RxTzvaoCUlUA",
        "colab_type": "text"
      },
      "source": [
        "### Regularization\n",
        "- Lasso (L1)\n",
        "- Ridge (L2)\n",
        "- ElasticNet(L1+L2)\n",
        "\n",
        "-- Lasso uses the l-1 norm corresponding to the penalty parameter and the absolute value of the coefficients. Ridge regression performs l2 regularization, also known as l2-norm, which adds a penalty term to ordinary least squares using the penalty parameter and the sum of the squared coefficients.\n"
      ]
    },
    {
      "cell_type": "code",
      "metadata": {
        "id": "XP22o37sXGVQ",
        "colab_type": "code",
        "colab": {}
      },
      "source": [
        "### Lasso\n",
        "# Import modules\n",
        "from sklearn.linear_model import Lasso, LassoCV\n",
        "from sklearn.metrics import mean_squared_error\n",
        "\n",
        "# Train/test split\n",
        "X_train, X_test, y_train, y_test = train_test_split(X, y, random_state=123, test_size=0.3)\n",
        "\n",
        "# Instantiate cross-validated lasso, fit\n",
        "lasso_cv = LassoCV(alphas=None, cv=10, max_iter=10000)\n",
        "lasso_cv.fit(X_train, y_train)\n",
        "\n",
        "# Instantiate lasso, fit, predict and print MSE\n",
        "lasso = Lasso(alpha = lasso_cv.alpha_)\n",
        "lasso.fit(X_train, y_train)\n",
        "print(mean_squared_error(y_true= y_test, y_pred=lasso.predict(X_test)))"
      ],
      "execution_count": 0,
      "outputs": []
    },
    {
      "cell_type": "code",
      "metadata": {
        "id": "eWzGJ4WVkPaD",
        "colab_type": "code",
        "colab": {}
      },
      "source": [
        "### Ridge regularization\n",
        "# Import modules\n",
        "from sklearn.linear_model import Ridge, RidgeCV\n",
        "from sklearn.metrics import mean_squared_error\n",
        "\n",
        "# Train/test split\n",
        "X_train, X_test, y_train, y_test = train_test_split(X, y, random_state=123, test_size=0.3)\n",
        "\n",
        "# Instantiate cross-validated ridge, fit\n",
        "ridge_cv = RidgeCV(alphas=np.logspace(-6, 6, 13))\n",
        "ridge_cv.fit(X_train, y_train)\n",
        "\n",
        "# Instantiate ridge, fit, predict and print MSE\n",
        "ridge = Ridge(alpha = ridge_cv.alpha_)\n",
        "ridge.fit(X_train, y_train)\n",
        "print(mean_squared_error(y_true=y_test, y_pred=ridge.predict(X_test)))"
      ],
      "execution_count": 0,
      "outputs": []
    },
    {
      "cell_type": "markdown",
      "metadata": {
        "id": "Uj4F21qX04uZ",
        "colab_type": "text"
      },
      "source": [
        "### Feature engineering: Classifcation"
      ]
    },
    {
      "cell_type": "code",
      "metadata": {
        "id": "8hIJBw0U09B1",
        "colab_type": "code",
        "colab": {}
      },
      "source": [
        "# Create X matrix and y array\n",
        "X = loan_data.drop('Loan Status', axis=1)\n",
        "y = loan_data['Loan Status']\n",
        "\n",
        "# Train/test split\n",
        "X_train, X_test, y_train, y_test = train_test_split(X, y, test_size=0.3, random_state=123)\n",
        "\n",
        "# Instantiate\n",
        "logistic = LogisticRegression()\n",
        "\n",
        "# Fit\n",
        "logistic.fit(X_train, y_train)\n",
        "\n",
        "# Predict and print accuracy\n",
        "print(accuracy_score(y_true=y_test, y_pred=logistic.predict(X_test)))"
      ],
      "execution_count": 0,
      "outputs": []
    },
    {
      "cell_type": "code",
      "metadata": {
        "id": "RSpxVzb66KIU",
        "colab_type": "code",
        "colab": {}
      },
      "source": [
        "# Create dti_ratio variable\n",
        "monthly_income = loan_data[\"Annual Income\"]/12\n",
        "loan_data[\"dti_ratio\"] = loan_data[\"Monthly Debt\"]/monthly_income * 100\n",
        "loan_data = loan_data.drop([\"Monthly Debt\",\"Annual Income\"], axis=1)\n",
        "\n",
        "# Replace target variable levels\n",
        "loan_data[\"Loan Status\"] = loan_data[\"Loan Status\"].replace({'Fully Paid': 0, \n",
        "                                            'Charged Off': 1})\n",
        "\n",
        "# One-hot encode categorical variables\n",
        "loan_data = pd.get_dummies(data=loan_data)\n",
        "\n",
        "# Print\n",
        "print(loan_data.head())\n",
        "\n",
        "# Create X matrix and y array\n",
        "X = loans_dti.drop(\"Loan Status\", axis=1)\n",
        "y = loans_dti[\"Loan Status\"]\n",
        "\n",
        "# Train/test split\n",
        "X_train, X_test, y_train, y_test = train_test_split(X, y, test_size=0.3, random_state=123)\n",
        "\n",
        "# Instantiate\n",
        "logistic_dti = LogisticRegression()\n",
        "\n",
        "# Fit\n",
        "logistic_dti.fit(X_train, y_train)\n",
        "\n",
        "# Predict and print accuracy\n",
        "print(accuracy_score(y_true=y_test, y_pred=logistic_dti.predict(X_test)))"
      ],
      "execution_count": 0,
      "outputs": []
    },
    {
      "cell_type": "markdown",
      "metadata": {
        "id": "dpqfEEAC6_MA",
        "colab_type": "text"
      },
      "source": [
        "### Ensemble methods\n",
        "\n",
        "- bagging (bootstrap aggregation) - decrease variance (overfit)\n",
        "- boosting - decrease bias (underfit)\n",
        "- stacking\n"
      ]
    },
    {
      "cell_type": "code",
      "metadata": {
        "id": "_O6tdPtf7ADN",
        "colab_type": "code",
        "colab": {}
      },
      "source": [
        "### bagging\n",
        "\n",
        "# Instantiate bootstrap aggregation model\n",
        "bagged_model = BaggingClassifier(n_estimators=50, random_state=123)  # use decision tree by default\n",
        "\n",
        "# Fit\n",
        "bagged_fit = bagged_model.fit(X_train, y_train)\n",
        "\n",
        "# Predict\n",
        "bagged_pred = bagged_model.predict(X_test)\n",
        "\n",
        "# Print accuracy score\n",
        "print(accuracy_score(y_test, bagged_pred))\n"
      ],
      "execution_count": 0,
      "outputs": []
    },
    {
      "cell_type": "code",
      "metadata": {
        "id": "FKJfg8WE_PGm",
        "colab_type": "code",
        "colab": {}
      },
      "source": [
        "### boostering\n",
        "\n",
        "# Boosting model\n",
        "boosted_model = AdaBoostClassifier(n_estimators=50, random_state=123)\n",
        "\n",
        "# Fit\n",
        "boosted_fit = boosted_model.fit(X_train, y_train)\n",
        "\n",
        "# Predict\n",
        "boosted_pred = boosted_model.predict(X_test)\n",
        "\n",
        "# Print model accuracy\n",
        "print(accuracy_score(y_test, boosted_pred))"
      ],
      "execution_count": 0,
      "outputs": []
    },
    {
      "cell_type": "markdown",
      "metadata": {
        "id": "PosOINqP_21V",
        "colab_type": "text"
      },
      "source": [
        "### Dimensionality reduction: feature extraction"
      ]
    },
    {
      "cell_type": "code",
      "metadata": {
        "id": "HQTs8896_SM0",
        "colab_type": "code",
        "colab": {}
      },
      "source": [
        "### PCA\n",
        "# Import module\n",
        "from sklearn.decomposition import PCA\n",
        "\n",
        "# Feature matrix and target array\n",
        "X = diabetes.drop('progression', axis=1)\n",
        "y = diabetes['progression']\n",
        "\n",
        "# PCA\n",
        "pca = PCA(n_components=3)\n",
        "\n",
        "# Fit and transform\n",
        "principalComponents = pca.fit_transform(X)\n",
        "\n",
        "# Print ratio of variance explained\n",
        "print(pca.explained_variance_ratio_)"
      ],
      "execution_count": 0,
      "outputs": []
    },
    {
      "cell_type": "code",
      "metadata": {
        "id": "uniku2y2CV0j",
        "colab_type": "code",
        "colab": {}
      },
      "source": [
        "# Import module\n",
        "from sklearn.decomposition import TruncatedSVD\n",
        "\n",
        "# Feature matrix and target array\n",
        "X = diabetes.drop('progression', axis=1)\n",
        "y = diabetes['progression']\n",
        "\n",
        "# PCA\n",
        "svd = TruncatedSVD(n_components=3)\n",
        "\n",
        "# Fit and transform\n",
        "principalComponents = svd.fit_transform(X)\n",
        "\n",
        "# Print ratio of variance explained\n",
        "print(svd.explained_variance_ratio_)"
      ],
      "execution_count": 0,
      "outputs": []
    },
    {
      "cell_type": "markdown",
      "metadata": {
        "id": "gMqO69plG0PB",
        "colab_type": "text"
      },
      "source": [
        "visulization"
      ]
    },
    {
      "cell_type": "code",
      "metadata": {
        "id": "km8zFbw3G2tv",
        "colab_type": "code",
        "colab": {}
      },
      "source": [
        "# t-sne with loan data\n",
        "from sklearn.manifold import TSNE\n",
        "import seaborn as sns\n",
        "loans = pd.read_csv('loans_dataset.csv')\n",
        "# Feature matrix\n",
        "X = loans.drop('Loan Status', axis=1)\n",
        "tsne = TSNE(n_components=2, verbose=1, perplexity=40)\n",
        "tsne_results = tsne.fit_transform(X)\n",
        "loans['t-SNE-PC-one'] = tsne_results[:,0]\n",
        "loans['t-SNE-PC-two'] = tsne_results[:,1]\n",
        "\n",
        "# t-sne viz\n",
        "plt.figure(figsize=(16,10))\n",
        "sns.scatterplot(\n",
        "x=\"t-SNE-PC-one\", y=\"t-SNE-PC-two\",\n",
        "hue=\"Loan Status\",\n",
        "palette=sns.color_palette([\"grey\",\"blue\"]),\n",
        "data=loans,\n",
        "legend=\"full\",\n",
        "alpha=0.3\n",
        ")"
      ],
      "execution_count": 0,
      "outputs": []
    },
    {
      "cell_type": "code",
      "metadata": {
        "id": "3ba5MIkbJ_NO",
        "colab_type": "code",
        "colab": {}
      },
      "source": [
        "targets = [0, 1]\n",
        "colors = ['r', 'b']\n",
        "\n",
        "# For loop to create plot\n",
        "for target, color in zip(targets,colors):\n",
        "    indicesToKeep = loan_data_PCA['Loan Status'] == target\n",
        "    ax.scatter(loan_data_PCA.loc[indicesToKeep, 'principal component 1']\n",
        "               , loan_data_PCA.loc[indicesToKeep, 'principal component 2']\n",
        "               , c = color\n",
        "               , s = 50)\n",
        "\n",
        "# Legend    \n",
        "ax.legend(targets)\n",
        "ax.grid()\n",
        "plt.show()"
      ],
      "execution_count": 0,
      "outputs": []
    },
    {
      "cell_type": "markdown",
      "metadata": {
        "id": "KPnIc9WjKc7z",
        "colab_type": "text"
      },
      "source": [
        "How to find the best PCA components? \n",
        "\n",
        "- use cumulative variance to determine the percentage of explained variance ratio for PCA components"
      ]
    },
    {
      "cell_type": "code",
      "metadata": {
        "id": "cFcGRgy_KgWP",
        "colab_type": "code",
        "colab": {}
      },
      "source": [
        "# Remove target variable\n",
        "X = loan_data.drop('Loan Status', axis=1)\n",
        "\n",
        "# Instantiate\n",
        "pca = PCA(n_components=10)\n",
        "\n",
        "# Fit and transform\n",
        "principalComponents = pca.fit_transform(X)\n",
        "\n",
        "# List principal components names\n",
        "principal_components = ['PC1','PC2','PC3','PC4','PC5','PC6','PC7','PC8','PC9','PC10']\n",
        "\n",
        "# Create a DataFrame\n",
        "pca_df = pd.DataFrame({'Variance Explained': pca.explained_variance_ratio_,\n",
        "             'PC':principal_components})\n",
        "\n",
        "# Plot DataFrame (scree plot)\n",
        "sns.barplot(x='PC',y='Variance Explained', \n",
        "           data=pca_df, color=\"c\")\n",
        "plt.show()\n",
        "\n",
        "# Instantiate, fit and transform\n",
        "pca2 = PCA()\n",
        "principalComponents2 = pca2.fit_transform(X)\n",
        "\n",
        "# Assign variance explained\n",
        "var = pca2.explained_variance_ratio_\n",
        "\n",
        "# Plot cumulative variance\n",
        "cumulative_var = np.cumsum(var)*100\n",
        "plt.plot(cumulative_var,'k-o',markerfacecolor='None',markeredgecolor='k')\n",
        "plt.title('Principal Component Analysis',fontsize=12)\n",
        "plt.xlabel(\"Principal Component\",fontsize=12)\n",
        "plt.ylabel(\"Cumulative Proportion of Variance Explained\",fontsize=12)\n",
        "plt.show()\n",
        "\n"
      ],
      "execution_count": 0,
      "outputs": []
    },
    {
      "cell_type": "markdown",
      "metadata": {
        "id": "KZFSfyeJNXNu",
        "colab_type": "text"
      },
      "source": [
        "### Clustering analysis: selecting the right clustering algorithm\n",
        "\n",
        "\n",
        "K-means clustering\n",
        "\n"
      ]
    },
    {
      "cell_type": "code",
      "metadata": {
        "id": "Wra1Dc79NazS",
        "colab_type": "code",
        "colab": {}
      },
      "source": [
        "# Import module\n",
        "from sklearn.cluster import KMeans\n",
        "\n",
        "# Create feature matrix\n",
        "X = diabetes.drop(\"progression\", axis=1)\n",
        "\n",
        "# Instantiate\n",
        "kmeans = KMeans(n_clusters=20, random_state=123)\n",
        "\n",
        "# Fit\n",
        "fit = kmeans.fit(X)\n",
        "\n",
        "# Print inertia\n",
        "print(\"Sum of squared distances for 20 clusters is\", kmeans.inertia_)"
      ],
      "execution_count": 0,
      "outputs": []
    },
    {
      "cell_type": "markdown",
      "metadata": {
        "id": "f_Y6vCA15lTh",
        "colab_type": "text"
      },
      "source": [
        "Hierarchical agglomerative clustering"
      ]
    },
    {
      "cell_type": "code",
      "metadata": {
        "id": "lYFRKFxc5iME",
        "colab_type": "code",
        "colab": {}
      },
      "source": [
        "# Import hierarchical clustering libraries\n",
        "import scipy.cluster.hierarchy as sch\n",
        "from sklearn.cluster import AgglomerativeClustering\n",
        "\n",
        "# Create dendrogram\n",
        "dendrogram = sch.dendrogram(sch.linkage(X, method='ward'))\n",
        "plt.show()\n",
        "\n",
        "# Create clusters and fit\n",
        "hc = AgglomerativeClustering(affinity = 'euclidean', linkage = 'ward')\n",
        "hc.fit(X)\n",
        "\n",
        "# Print number of clusters\n",
        "print(hc.n_clusters_)"
      ],
      "execution_count": 0,
      "outputs": []
    },
    {
      "cell_type": "markdown",
      "metadata": {
        "id": "zpqjAske-nHF",
        "colab_type": "text"
      },
      "source": [
        "optimal k\n",
        "1) silhouette_score (-1 ~ 1, 1 -->the best, -1--> the worse)\n"
      ]
    },
    {
      "cell_type": "code",
      "metadata": {
        "id": "UoFFbQQnCyfW",
        "colab_type": "code",
        "colab": {}
      },
      "source": [
        "# Import modules\n",
        "from sklearn.cluster import KMeans\n",
        "from sklearn.metrics import silhouette_score\n",
        "\n",
        "# Feature matrix\n",
        "X = diabetes.drop(\"progression\", axis=1)\n",
        "\n",
        "# For loop\n",
        "for n_clusters in range(2,9):\n",
        "    kmeans = KMeans(n_clusters=n_clusters)\n",
        "    preds = kmeans.fit_predict(X)\n",
        "    score = silhouette_score(X, preds, metric='euclidean')\n",
        "    print (\"For n_clusters = {}, silhouette score is {})\".format(n_clusters, score))"
      ],
      "execution_count": 0,
      "outputs": []
    },
    {
      "cell_type": "markdown",
      "metadata": {
        "id": "iWkIMDMcEBqL",
        "colab_type": "text"
      },
      "source": [
        "2) elbow method"
      ]
    },
    {
      "cell_type": "code",
      "metadata": {
        "id": "HNenQv-UD2dA",
        "colab_type": "code",
        "colab": {}
      },
      "source": [
        "# Create empty list\n",
        "sum_of_squared_distances = []\n",
        "\n",
        "# Create for loop\n",
        "for k in range(1,15):\n",
        "    kmeans = KMeans(n_clusters=k)\n",
        "    kmeans = kmeans.fit(X)\n",
        "    sum_of_squared_distances.append(kmeans.inertia_)\n",
        "\n",
        "# Plot\n",
        "plt.plot(range(1,15), sum_of_squared_distances, 'bx-')\n",
        "plt.xlabel('k')\n",
        "plt.ylabel('Sum of squared distances')\n",
        "plt.title('Elbow Method For Optimal k')\n",
        "plt.show()"
      ],
      "execution_count": 0,
      "outputs": []
    },
    {
      "cell_type": "markdown",
      "metadata": {
        "id": "wKbi0LG8ED9t",
        "colab_type": "text"
      },
      "source": [
        "### Model Generalization: bootstrapping and cross-validation\n"
      ]
    },
    {
      "cell_type": "markdown",
      "metadata": {
        "id": "pQ0YiwVHGql9",
        "colab_type": "text"
      },
      "source": [
        "GridsearchCV"
      ]
    },
    {
      "cell_type": "code",
      "metadata": {
        "id": "g1zUJLHPGqCv",
        "colab_type": "code",
        "colab": {}
      },
      "source": [
        "# Import modules\n",
        "from sklearn.tree import DecisionTreeClassifier\n",
        "from sklearn.metrics import accuracy_score\n",
        "\n",
        "# Train/test split\n",
        "X_train, X_test, y_train, y_test = train_test_split(X,y, test_size=0.30, random_state=123)\n",
        "\n",
        "# Instantiate, Fit, Predict\n",
        "loans_clf = DecisionTreeClassifier() \n",
        "loans_clf.fit(X_train, y_train)\n",
        "y_pred = loans_clf.predict(X_test)\n",
        "\n",
        "# Evaluation metric\n",
        "print(\"Decision Tree Accuracy: {}\".format(accuracy_score(y_test,y_pred)))"
      ],
      "execution_count": 0,
      "outputs": []
    },
    {
      "cell_type": "code",
      "metadata": {
        "id": "iOZxVjWjEL6C",
        "colab_type": "code",
        "colab": {}
      },
      "source": [
        "# Import modules\n",
        "from sklearn.model_selection import GridSearchCV\n",
        "\n",
        "# Create the hyperparameter grid\n",
        "param_grid = {\"criterion\": [\"gini\"], \"min_samples_split\": [2, 10, 20], \n",
        "              \"max_depth\": [None, 2, 5, 10]}\n",
        "\n",
        "# Instantiate classifier and GridSearchCV, fit\n",
        "loans_clf = DecisionTreeClassifier()\n",
        "dtree_cv = GridSearchCV(loans_clf, param_grid, cv=5)\n",
        "fit = dtree_cv.fit(X_train, y_train)\n",
        "\n",
        "# Print the optimal parameters and best score\n",
        "print(\"Tuned Decision Tree Parameter: {}\".format(dtree_cv.best_params_))\n",
        "print(\"Tuned Decision Tree Accuracy: {}\".format(dtree_cv.best_score_))"
      ],
      "execution_count": 0,
      "outputs": []
    },
    {
      "cell_type": "markdown",
      "metadata": {
        "id": "T-QEA3P-IXNa",
        "colab_type": "text"
      },
      "source": [
        "Random Forest (bootstrap)"
      ]
    },
    {
      "cell_type": "code",
      "metadata": {
        "id": "k3YsPoVCIdS4",
        "colab_type": "code",
        "colab": {}
      },
      "source": [
        "# Import modules\n",
        "from sklearn.ensemble import RandomForestClassifier\n",
        "from sklearn.metrics import accuracy_score\n",
        "\n",
        "# Train/test split\n",
        "X_train, X_test, y_train, y_test = train_test_split(X,y, test_size=0.30, random_state=123)\n",
        "\n",
        "# Instantiate, Fit, Predict\n",
        "loans_rf = RandomForestClassifier() \n",
        "loans_rf.fit(X_train, y_train)\n",
        "y_pred = loans_rf.predict(X_test)\n",
        "\n",
        "# Evaluation metric\n",
        "print(\"Random Forest Accuracy: {}\".format(accuracy_score(y_test,y_pred)))"
      ],
      "execution_count": 0,
      "outputs": []
    },
    {
      "cell_type": "code",
      "metadata": {
        "id": "Sw3NSt9wIy8V",
        "colab_type": "code",
        "colab": {}
      },
      "source": [
        "# Import modules\n",
        "from sklearn.model_selection import GridSearchCV\n",
        "\n",
        "# Create the hyperparameter grid\n",
        "param_grid = {\"criterion\": [\"gini\"], \"min_samples_split\": [2, 10, 20], \n",
        "              \"max_depth\": [None, 2, 5, 10],\"max_features\": [10, 20, 30]}\n",
        "\n",
        "# Instantiate classifier and GridSearchCV, fit\n",
        "loans_rf = RandomForestClassifier()\n",
        "rf_cv = GridSearchCV(loans_rf, param_grid, cv=5)\n",
        "fit = rf_cv.fit(X_train, y_train)\n",
        "\n",
        "# Print the optimal parameters and best score\n",
        "print(\"Tuned Random Forest Parameter: {}\".format(rf_cv.best_params_))\n",
        "print(\"Tuned Random Forest Accuracy: {}\".format(rf_cv.best_score_))"
      ],
      "execution_count": 0,
      "outputs": []
    },
    {
      "cell_type": "markdown",
      "metadata": {
        "id": "7dQ2WTYkI8Wd",
        "colab_type": "text"
      },
      "source": [
        "### Model evaluation: imbalanced classification models\n",
        "\n",
        "Imbalanced class metrics\n"
      ]
    },
    {
      "cell_type": "code",
      "metadata": {
        "id": "A_tZXZuNI9JM",
        "colab_type": "code",
        "colab": {}
      },
      "source": [
        "# Import\n",
        "from sklearn.linear_model import LogisticRegression\n",
        "from sklearn.metrics import confusion_matrix, accuracy_score, precision_score, recall_score, f1_score\n",
        "\n",
        "# Instantiate, fit, predict\n",
        "lr = LogisticRegression(solver='liblinear')\n",
        "lr.fit(X_train, y_train)\n",
        "y_pred = lr.predict(X_test)\n",
        "\n",
        "# Print evaluation metrics\n",
        "print(\"Confusion matrix:\\n {}\".format(confusion_matrix(y_test, y_pred)))\n",
        "print(\"Accuracy: {}\".format(accuracy_score(y_test, y_pred)))\n",
        "print(\"Precision: {}\".format(precision_score(y_test, y_pred)))\n",
        "print(\"Recall: {}\".format(recall_score(y_test, y_pred)))\n",
        "print(\"F1: {}\".format(f1_score(y_test, y_pred)))"
      ],
      "execution_count": 0,
      "outputs": []
    },
    {
      "cell_type": "markdown",
      "metadata": {
        "id": "eJxj_85gRL1z",
        "colab_type": "text"
      },
      "source": [
        "Resampling techniques"
      ]
    },
    {
      "cell_type": "code",
      "metadata": {
        "id": "a9O7ziwfQ_wY",
        "colab_type": "code",
        "colab": {}
      },
      "source": [
        "### Resample the minority class, concatenate it with the majority class.\n",
        "# Upsample minority, combine with majority\n",
        "loans_upsampled = resample(deny, replace=True, n_samples=len(approve), random_state=123)\n",
        "upsampled = pd.concat([approve, loans_upsampled])\n",
        "\n",
        "# Instantiate logistic regression, fit, predict\n",
        "loan_lr_up = LogisticRegression(solver='liblinear')\n",
        "loan_lr_up.fit(X_train_up, y_train_up)\n",
        "upsampled_y_pred = loan_lr_up.predict(X_test)\n",
        "\n",
        "# Print evaluation metrics\n",
        "print(\"Confusion matrix:\\n {}\".format(confusion_matrix(y_test, upsampled_y_pred)))\n",
        "print(\"Accuracy: {}\".format(accuracy_score(y_test, upsampled_y_pred)))\n",
        "print(\"Precision: {}\".format(precision_score(y_test, upsampled_y_pred)))\n",
        "print(\"Recall: {}\".format(recall_score(y_test, upsampled_y_pred)))\n",
        "print(\"F1: {}\".format(f1_score(y_test, upsampled_y_pred)))\n",
        "\n",
        "\n"
      ],
      "execution_count": 0,
      "outputs": []
    },
    {
      "cell_type": "markdown",
      "metadata": {
        "id": "Yb4HUEXHjXWj",
        "colab_type": "text"
      },
      "source": [
        "Model selection: regression models\n",
        "\n",
        "**multicollinearity**\n",
        "\n",
        "Techniques to address multicollinearity\n",
        "- Correlation matrix\n",
        "- Heatmap of correlations\n",
        "- Calculate the variance ination factor (VIF)\n",
        "- Introduce penalizations (Ridge, Lasso)\n",
        "- PCA\n",
        "\n",
        "\n"
      ]
    },
    {
      "cell_type": "code",
      "metadata": {
        "id": "rXEssq7-h9xk",
        "colab_type": "code",
        "colab": {}
      },
      "source": [
        "# Instantiate, fit, predict\n",
        "lin_mod = LinearRegression()\n",
        "lin_mod.fit(X_train, y_train)\n",
        "y_pred = lin_mod.predict(X_test)\n",
        "\n",
        "# Coefficient estimates\n",
        "print('Coefficients: \\n', lin_mod.coef_)\n",
        "\n",
        "# Mean squared error\n",
        "print(\"Mean squared error: %.2f\"\n",
        "      % mean_squared_error(y_test, y_pred))\n",
        "\n",
        "# Explained variance score\n",
        "print('R_squared score: %.2f' % r2_score(y_test, y_pred))\n",
        "\n",
        "# Correlation matrix\n",
        "diab_corr = diabetes.corr()\n",
        "\n",
        "# Generate correlation heatmap\n",
        "ax = sns.heatmap(diab_corr, center=0, cmap=sns.diverging_palette(20,220, n=256), square=True)\n",
        "ax.set_xticklabels(ax.get_xticklabels(), rotation=45, horizontalalignment='right')\n",
        "plt.show()\n",
        "\n",
        "# Print correlations\n",
        "print(diab_corr)"
      ],
      "execution_count": 0,
      "outputs": []
    },
    {
      "cell_type": "code",
      "metadata": {
        "id": "9Vg6Eqz-se5x",
        "colab_type": "code",
        "colab": {}
      },
      "source": [
        "# Feature engineering\n",
        "diabetes['s1_s2'] = diabetes['s1'] * diabetes['s2']\n",
        "diabetes = diabetes.drop(['s1','s2'], axis=1)\n",
        "\n",
        "# Print variable names\n",
        "print(diabetes.columns)\n",
        "\n",
        "# Train/test split\n",
        "X_train2, X_test2, y_train2, y_test2 = train_test_split(X2, y2, test_size=0.3, random_state=123)\n",
        "# Instantiate, fit, predict\n",
        "lin_mod2 = LinearRegression()\n",
        "lin_mod2.fit(X_train2, y_train2)\n",
        "y_pred2 = lin_mod2.predict(X_test2)\n",
        "\n",
        "# Coefficient estimates\n",
        "print('Coefficients: \\n', lin_mod2.coef_)\n",
        "\n",
        "# Mean squared error\n",
        "print(\"Mean squared error: %.2f\"\n",
        "      % mean_squared_error(y_test2, y_pred2))\n",
        "\n",
        "# Explained variance score\n",
        "print('R_squared score: %.2f' % r2_score(y_test2, y_pred2\n",
        "                                         \n",
        "                                         "
      ],
      "execution_count": 0,
      "outputs": []
    },
    {
      "cell_type": "markdown",
      "metadata": {
        "id": "oe0lqA3CtIOg",
        "colab_type": "text"
      },
      "source": [
        "PCA\n"
      ]
    },
    {
      "cell_type": "code",
      "metadata": {
        "id": "zo_DhC50tJJD",
        "colab_type": "code",
        "colab": {}
      },
      "source": [
        "# Import\n",
        "from sklearn.decomposition import PCA\n",
        "\n",
        "# Instantiate\n",
        "pca = PCA()\n",
        "\n",
        "# Fit on train\n",
        "pca.fit(X_train)\n",
        "\n",
        "# Transform train and test\n",
        "X_trainPCA = pca.transform(X_train)\n",
        "X_testPCA = pca.transform(X_test)\n",
        "\n",
        "# Import\n",
        "from sklearn.linear_model import LinearRegression\n",
        "\n",
        "# Instantiate, fit, predict\n",
        "LinRegr = LinearRegression()\n",
        "LinRegr.fit(X_trainPCA, y_train)\n",
        "predictions = LinRegr.predict(X_testPCA)\n",
        "\n",
        "# The coefficients\n",
        "print('Coefficients: \\n', LinRegr.coef_)\n",
        "\n",
        "# The mean squared error\n",
        "print(\"Mean squared error: %.2f\" % mean_squared_error(y_test, predictions ))\n",
        "\n",
        "# Explained variance score: 1 is perfect prediction\n",
        "print('Variance score: %.2f' % r2_score(y_test, predictions))\n",
        "\n",
        "\n",
        "# Correlation matrix\n",
        "X_trainPCA = pd.DataFrame(X_trainPCA)\n",
        "diab_corrPCA = X_trainPCA.corr()\n",
        "\n",
        "# Generate correlation heatmap\n",
        "ax = sns.heatmap(diab_corrPCA, center=0, cmap=sns.diverging_palette(20,220, n=256), square=True)\n",
        "ax.set_xticklabels(ax.get_xticklabels(), rotation=45, horizontalalignment='right')\n",
        "plt.show()\n",
        "\n",
        "# Print correlations\n",
        "print(diab_corrPCA)\n",
        "\n"
      ],
      "execution_count": 0,
      "outputs": []
    },
    {
      "cell_type": "markdown",
      "metadata": {
        "id": "TQJOevHZuJUn",
        "colab_type": "text"
      },
      "source": [
        "Model selection: ensemble models\n"
      ]
    },
    {
      "cell_type": "code",
      "metadata": {
        "id": "h-I-fNjduKj9",
        "colab_type": "code",
        "colab": {}
      },
      "source": [
        "# random forest\n",
        "\n",
        "# Import\n",
        "from sklearn.ensemble import RandomForestClassifier\n",
        "from sklearn.metrics import confusion_matrix, accuracy_score, precision_score, recall_score, f1_score\n",
        "\n",
        "# Instantiate, fit, predict\n",
        "rf_model = RandomForestClassifier(n_estimators=50, random_state=123, oob_score = True)\n",
        "rf_fit = rf_model.fit(X_train, y_train)\n",
        "rf_pred = rf_model.predict(X_test)\n",
        "\n",
        "# Print evaluation metrics\n",
        "print(\"Random Forest Accuracy: {}\".format(accuracy_score(y_test, rf_pred)))\n",
        "print(\"Confusion matrix:\\n {}\".format(confusion_matrix(y_test, rf_pred)))\n",
        "print(\"Precision: {}\".format(precision_score(y_test, rf_pred)))\n",
        "print(\"Recall: {}\".format(recall_score(y_test, rf_pred)))\n",
        "print(\"F1: {}\".format(f1_score(y_test, rf_pred)))\n",
        "\n"
      ],
      "execution_count": 0,
      "outputs": []
    },
    {
      "cell_type": "code",
      "metadata": {
        "id": "_I3KGLHOxQfb",
        "colab_type": "code",
        "colab": {}
      },
      "source": [
        "## Gradient Boosting\n",
        "# Import\n",
        "from sklearn.ensemble import GradientBoostingClassifier\n",
        "from sklearn.metrics import confusion_matrix, accuracy_score, precision_score, recall_score, f1_score\n",
        "\n",
        "# Instantiate, fit, predict\n",
        "gb_model = GradientBoostingClassifier(n_estimators=50, learning_rate=0.01,random_state=123)\n",
        "gb_fit = gb_model.fit(X_train, y_train)\n",
        "gb_pred = gb_model.predict(X_test)\n",
        "\n",
        "# Print evaluation metrics\n",
        "print(\"Gradient Boosting Accuracy: {}\".format(accuracy_score(y_test, gb_pred )))\n",
        "print(\"Confusion matrix:\\n {}\".format(confusion_matrix(y_test, gb_pred )))\n",
        "print(\"Precision: {}\".format(precision_score(y_test, gb_pred )))\n",
        "print(\"Recall: {}\".format(recall_score(y_test, gb_pred )))\n",
        "print(\"F1: {}\".format(f1_score(y_test, gb_pred )))"
      ],
      "execution_count": 0,
      "outputs": []
    }
  ]
}