{
  "nbformat": 4,
  "nbformat_minor": 0,
  "metadata": {
    "colab": {
      "name": "ML101_EDA.ipynb",
      "provenance": [],
      "collapsed_sections": [],
      "include_colab_link": true
    },
    "kernelspec": {
      "name": "python3",
      "display_name": "Python 3"
    }
  },
  "cells": [
    {
      "cell_type": "markdown",
      "metadata": {
        "id": "view-in-github",
        "colab_type": "text"
      },
      "source": [
        "<a href=\"https://colab.research.google.com/github/cyuancheng/Machine_Learning_Practice/blob/master/ML101_EDA.ipynb\" target=\"_parent\"><img src=\"https://colab.research.google.com/assets/colab-badge.svg\" alt=\"Open In Colab\"/></a>"
      ]
    },
    {
      "cell_type": "code",
      "metadata": {
        "id": "6gx_-rDIHqA8",
        "colab_type": "code",
        "colab": {}
      },
      "source": [
        "import pandas as pd\n",
        "import numpy as np\n",
        "import seaborn as sns\n",
        "import matplotlib.pyplot as plt\n"
      ],
      "execution_count": 0,
      "outputs": []
    },
    {
      "cell_type": "markdown",
      "metadata": {
        "id": "YBC426sIkdQ0",
        "colab_type": "text"
      },
      "source": [
        "### Data Exploration\n",
        "The data was from Kaggle black [dataset(https://www.kaggle.com/dalalmanish/black-friday)"
      ]
    },
    {
      "cell_type": "code",
      "metadata": {
        "id": "MkkxJa3fKYsD",
        "colab_type": "code",
        "outputId": "a5ef156d-cd05-4810-e92b-779c2b6699a1",
        "colab": {
          "base_uri": "https://localhost:8080/",
          "height": 204
        }
      },
      "source": [
        "# https://www.kaggle.com/dalalmanish/black-friday\n",
        "\n",
        "data = pd.read_csv('https://raw.githubusercontent.com/princetonschoolofai/ML101Retail/master/train.csv')\n",
        "\n",
        "data.head()  "
      ],
      "execution_count": 0,
      "outputs": [
        {
          "output_type": "execute_result",
          "data": {
            "text/html": [
              "<div>\n",
              "<style scoped>\n",
              "    .dataframe tbody tr th:only-of-type {\n",
              "        vertical-align: middle;\n",
              "    }\n",
              "\n",
              "    .dataframe tbody tr th {\n",
              "        vertical-align: top;\n",
              "    }\n",
              "\n",
              "    .dataframe thead th {\n",
              "        text-align: right;\n",
              "    }\n",
              "</style>\n",
              "<table border=\"1\" class=\"dataframe\">\n",
              "  <thead>\n",
              "    <tr style=\"text-align: right;\">\n",
              "      <th></th>\n",
              "      <th>User_ID</th>\n",
              "      <th>Product_ID</th>\n",
              "      <th>Gender</th>\n",
              "      <th>Age</th>\n",
              "      <th>Occupation</th>\n",
              "      <th>City_Category</th>\n",
              "      <th>Stay_In_Current_City_Years</th>\n",
              "      <th>Marital_Status</th>\n",
              "      <th>Product_Category_1</th>\n",
              "      <th>Product_Category_2</th>\n",
              "      <th>Product_Category_3</th>\n",
              "      <th>Purchase</th>\n",
              "    </tr>\n",
              "  </thead>\n",
              "  <tbody>\n",
              "    <tr>\n",
              "      <th>0</th>\n",
              "      <td>1000001</td>\n",
              "      <td>P00069042</td>\n",
              "      <td>F</td>\n",
              "      <td>0-17</td>\n",
              "      <td>10</td>\n",
              "      <td>A</td>\n",
              "      <td>2</td>\n",
              "      <td>0</td>\n",
              "      <td>3</td>\n",
              "      <td>NaN</td>\n",
              "      <td>NaN</td>\n",
              "      <td>8370</td>\n",
              "    </tr>\n",
              "    <tr>\n",
              "      <th>1</th>\n",
              "      <td>1000001</td>\n",
              "      <td>P00248942</td>\n",
              "      <td>F</td>\n",
              "      <td>0-17</td>\n",
              "      <td>10</td>\n",
              "      <td>A</td>\n",
              "      <td>2</td>\n",
              "      <td>0</td>\n",
              "      <td>1</td>\n",
              "      <td>6.0</td>\n",
              "      <td>14.0</td>\n",
              "      <td>15200</td>\n",
              "    </tr>\n",
              "    <tr>\n",
              "      <th>2</th>\n",
              "      <td>1000001</td>\n",
              "      <td>P00087842</td>\n",
              "      <td>F</td>\n",
              "      <td>0-17</td>\n",
              "      <td>10</td>\n",
              "      <td>A</td>\n",
              "      <td>2</td>\n",
              "      <td>0</td>\n",
              "      <td>12</td>\n",
              "      <td>NaN</td>\n",
              "      <td>NaN</td>\n",
              "      <td>1422</td>\n",
              "    </tr>\n",
              "    <tr>\n",
              "      <th>3</th>\n",
              "      <td>1000001</td>\n",
              "      <td>P00085442</td>\n",
              "      <td>F</td>\n",
              "      <td>0-17</td>\n",
              "      <td>10</td>\n",
              "      <td>A</td>\n",
              "      <td>2</td>\n",
              "      <td>0</td>\n",
              "      <td>12</td>\n",
              "      <td>14.0</td>\n",
              "      <td>NaN</td>\n",
              "      <td>1057</td>\n",
              "    </tr>\n",
              "    <tr>\n",
              "      <th>4</th>\n",
              "      <td>1000002</td>\n",
              "      <td>P00285442</td>\n",
              "      <td>M</td>\n",
              "      <td>55+</td>\n",
              "      <td>16</td>\n",
              "      <td>C</td>\n",
              "      <td>4+</td>\n",
              "      <td>0</td>\n",
              "      <td>8</td>\n",
              "      <td>NaN</td>\n",
              "      <td>NaN</td>\n",
              "      <td>7969</td>\n",
              "    </tr>\n",
              "  </tbody>\n",
              "</table>\n",
              "</div>"
            ],
            "text/plain": [
              "   User_ID Product_ID Gender  ... Product_Category_2  Product_Category_3 Purchase\n",
              "0  1000001  P00069042      F  ...                NaN                 NaN     8370\n",
              "1  1000001  P00248942      F  ...                6.0                14.0    15200\n",
              "2  1000001  P00087842      F  ...                NaN                 NaN     1422\n",
              "3  1000001  P00085442      F  ...               14.0                 NaN     1057\n",
              "4  1000002  P00285442      M  ...                NaN                 NaN     7969\n",
              "\n",
              "[5 rows x 12 columns]"
            ]
          },
          "metadata": {
            "tags": []
          },
          "execution_count": 2
        }
      ]
    },
    {
      "cell_type": "code",
      "metadata": {
        "id": "6I12Ps7ok6fk",
        "colab_type": "code",
        "outputId": "1deac435-a8a8-4815-c3f3-e87731452323",
        "colab": {
          "base_uri": "https://localhost:8080/",
          "height": 306
        }
      },
      "source": [
        "data.info()"
      ],
      "execution_count": 0,
      "outputs": [
        {
          "output_type": "stream",
          "text": [
            "<class 'pandas.core.frame.DataFrame'>\n",
            "RangeIndex: 550068 entries, 0 to 550067\n",
            "Data columns (total 12 columns):\n",
            "User_ID                       550068 non-null int64\n",
            "Product_ID                    550068 non-null object\n",
            "Gender                        550068 non-null object\n",
            "Age                           550068 non-null object\n",
            "Occupation                    550068 non-null int64\n",
            "City_Category                 550068 non-null object\n",
            "Stay_In_Current_City_Years    550068 non-null object\n",
            "Marital_Status                550068 non-null int64\n",
            "Product_Category_1            550068 non-null int64\n",
            "Product_Category_2            376430 non-null float64\n",
            "Product_Category_3            166821 non-null float64\n",
            "Purchase                      550068 non-null int64\n",
            "dtypes: float64(2), int64(5), object(5)\n",
            "memory usage: 50.4+ MB\n"
          ],
          "name": "stdout"
        }
      ]
    },
    {
      "cell_type": "code",
      "metadata": {
        "id": "xtaQ2WQY2QKJ",
        "colab_type": "code",
        "outputId": "2a4fb1a6-bf35-4c96-c55c-1bfee06bc356",
        "colab": {
          "base_uri": "https://localhost:8080/",
          "height": 34
        }
      },
      "source": [
        "# count nan \n",
        "[sum(data[x].isna()) for x in data]"
      ],
      "execution_count": 0,
      "outputs": [
        {
          "output_type": "execute_result",
          "data": {
            "text/plain": [
              "[0, 0, 0, 0, 0, 0, 0, 0, 0, 173638, 383247, 0]"
            ]
          },
          "metadata": {
            "tags": []
          },
          "execution_count": 10
        }
      ]
    },
    {
      "cell_type": "code",
      "metadata": {
        "id": "yob6UIZNYZnL",
        "colab_type": "code",
        "outputId": "b6e38f54-c58e-4edc-e6ba-7c0dde647f5e",
        "colab": {
          "base_uri": "https://localhost:8080/",
          "height": 255
        }
      },
      "source": [
        "print('missing values:\\n')\n",
        "for x in data.columns:\n",
        "  print(str(x)+':', sum(data[x].isna()))"
      ],
      "execution_count": 0,
      "outputs": [
        {
          "output_type": "stream",
          "text": [
            "missing values:\n",
            "\n",
            "User_ID: 0\n",
            "Product_ID: 0\n",
            "Gender: 0\n",
            "Age: 0\n",
            "Occupation: 0\n",
            "City_Category: 0\n",
            "Stay_In_Current_City_Years: 0\n",
            "Marital_Status: 0\n",
            "Product_Category_1: 0\n",
            "Product_Category_2: 173638\n",
            "Product_Category_3: 383247\n",
            "Purchase: 0\n"
          ],
          "name": "stdout"
        }
      ]
    },
    {
      "cell_type": "code",
      "metadata": {
        "id": "xaj_HHAyRj6p",
        "colab_type": "code",
        "outputId": "8ec88bf4-69b3-4933-a9b0-fed86687cfcc",
        "colab": {
          "base_uri": "https://localhost:8080/",
          "height": 68
        }
      },
      "source": [
        "print('Number of transactions = {}'.format(len(data)))\n",
        "print('Number of unique buyers = {}'.format(len(data['User_ID'].unique())))\n",
        "print('Number of unique products = {}'.format(len(data['Product_ID'].unique())))"
      ],
      "execution_count": 0,
      "outputs": [
        {
          "output_type": "stream",
          "text": [
            "Number of transactions = 550068\n",
            "Number of unique buyers = 5891\n",
            "Number of unique products = 3631\n"
          ],
          "name": "stdout"
        }
      ]
    },
    {
      "cell_type": "markdown",
      "metadata": {
        "id": "T7JNf6cyl5rx",
        "colab_type": "text"
      },
      "source": [
        "### Data Visulization and Analysis"
      ]
    },
    {
      "cell_type": "code",
      "metadata": {
        "id": "nITaJnr-xUut",
        "colab_type": "code",
        "colab": {}
      },
      "source": [
        "# define colors function for for figure\n",
        "import random\n",
        " \n",
        "def colors(n):\n",
        "  ret = []\n",
        "  for i in range(n):\n",
        "    r = random.random()\n",
        "    g = random.random()\n",
        "    b = random.random()\n",
        "    ret.append((r,g,b)) \n",
        "  return ret"
      ],
      "execution_count": 0,
      "outputs": []
    },
    {
      "cell_type": "markdown",
      "metadata": {
        "id": "0hGm2RnamEhF",
        "colab_type": "text"
      },
      "source": [
        "#### Distribution of Age"
      ]
    },
    {
      "cell_type": "code",
      "metadata": {
        "id": "mn4hgVzAfFL9",
        "colab_type": "code",
        "outputId": "a42bbce9-add3-4102-b590-3b50a1d2ad05",
        "colab": {
          "base_uri": "https://localhost:8080/",
          "height": 605
        }
      },
      "source": [
        "# Distribution of Age\n",
        "\n",
        "prop_age = data.groupby('Age').count()['User_ID']/len(data)\n",
        "\n",
        "#c = colors(7)\n",
        "#print(c)\n",
        "#plt.bar(prop_age.index, prop_age.values, color=c)\n",
        "#plt.bar(prop_age.index, prop_age.values)\n",
        "print('matplotlib')\n",
        "prop_age.plot(kind='bar')\n",
        "plt.show()\n",
        "print('pandas')\n",
        "plt.bar(prop_age.index, prop_age.values)\n",
        "plt.show()\n",
        "###\n",
        "print('This is incorrect! Need to drop duplicates')"
      ],
      "execution_count": 0,
      "outputs": [
        {
          "output_type": "stream",
          "text": [
            "matplotlib\n"
          ],
          "name": "stdout"
        },
        {
          "output_type": "display_data",
          "data": {
            "image/png": "[encoded data removed]",
            "text/plain": [
              "<Figure size 432x288 with 1 Axes>"
            ]
          },
          "metadata": {
            "tags": []
          }
        },
        {
          "output_type": "stream",
          "text": [
            "pandas\n"
          ],
          "name": "stdout"
        },
        {
          "output_type": "display_data",
          "data": {
            "image/png": "[encoded data removed]",
            "text/plain": [
              "<Figure size 432x288 with 1 Axes>"
            ]
          },
          "metadata": {
            "tags": []
          }
        },
        {
          "output_type": "stream",
          "text": [
            "This is incorrect! Need to drop duplicates\n"
          ],
          "name": "stdout"
        }
      ]
    },
    {
      "cell_type": "markdown",
      "metadata": {
        "id": "sw-GDmiOnBIF",
        "colab_type": "text"
      },
      "source": [
        "#### Distribution of Age (Corrected)"
      ]
    },
    {
      "cell_type": "code",
      "metadata": {
        "id": "9-ks_s9og0T1",
        "colab_type": "code",
        "outputId": "208bb3ad-2f0c-44e1-d0d2-135f71b077ba",
        "colab": {
          "base_uri": "https://localhost:8080/",
          "height": 404
        }
      },
      "source": [
        "# Correct distribution of Age\n",
        "unique_users = data[['User_ID','Age', 'Gender', 'City_Category']].drop_duplicates()\n",
        "prop_age_correct = unique_users.groupby('Age').count()['User_ID']/len(unique_users)\n",
        "\n",
        "fig= plt.figure(figsize=(10,6))\n",
        "\n",
        "plt.subplot(1, 2, 1)\n",
        "plt.ylim(0, 45)\n",
        "plt.ylabel('%');plt.xlabel('age')\n",
        "\n",
        "plt.bar(prop_age.index, prop_age.values*100)\n",
        "plt.title('Original Data')\n",
        "\n",
        "\n",
        "\n",
        "plt.subplot(1, 2, 2)\n",
        "plt.ylim(0, 45)\n",
        "plt.ylabel('%');plt.xlabel('age')\n",
        "plt.bar(prop_age_correct.index, prop_age_correct.values*100)\n",
        "plt.title('Corrected Data (remove duplicates)')\n",
        "\n",
        "\n",
        "plt.show()\n",
        "\n",
        "\n"
      ],
      "execution_count": 0,
      "outputs": [
        {
          "output_type": "display_data",
          "data": {
            "image/png": "[encoded data removed]",
            "text/plain": [
              "<Figure size 720x432 with 2 Axes>"
            ]
          },
          "metadata": {
            "tags": []
          }
        }
      ]
    },
    {
      "cell_type": "markdown",
      "metadata": {
        "id": "sXGazqVipHMO",
        "colab_type": "text"
      },
      "source": [
        "#### Average number vs value of purchases by age "
      ]
    },
    {
      "cell_type": "code",
      "metadata": {
        "id": "Q76QYikRkp2g",
        "colab_type": "code",
        "outputId": "9c56b467-48ea-40eb-f182-63f338df9722",
        "colab": {
          "base_uri": "https://localhost:8080/",
          "height": 587
        }
      },
      "source": [
        "# Average number of purchases by age group and average value per age group\n",
        "num_purch_age = data.groupby('Age').count()['User_ID']\n",
        "num_people_age = unique_users.groupby('Age').count()['User_ID']\n",
        "\n",
        "avg_purch_age = num_purch_age/num_people_age\n",
        "print('average number of purchases by age/n')\n",
        "print(avg_purch_age)\n",
        "\n",
        "\n",
        "val_purch_age = data.groupby('Age').sum()['Purchase']\n",
        "num_people_age = unique_users.groupby('Age').count()['User_ID']\n",
        "\n",
        "val_purch_age = val_purch_age/num_purch_age\n",
        "print('average value of purchases by age/n')\n",
        "print(val_purch_age)\n",
        "\n",
        "\n",
        "\n",
        "\n",
        "\n",
        "plt.subplot(1, 2, 1)\n",
        "\n",
        "plt.bar(avg_purch_age.index, avg_purch_age.values, color=c)\n",
        "plt.title('Avg Number of Purchases')\n",
        "\n",
        "plt.subplot(1, 2, 2)\n",
        "\n",
        "plt.bar(val_purch_age.index, val_purch_age.values, color=c)\n",
        "plt.title('Avg Value of Purchases')\n",
        "\n",
        "\n",
        "plt.show()\n",
        "\n",
        "#########################\n",
        "# Average number of purchases by age group and average value per age group\n",
        "num_purch_age = data.groupby('Age').count()['User_ID']\n",
        "num_people_age = unique_users_age.groupby('Age').count()['User_ID']\n",
        "\n",
        "avg_purch_age = num_purch_age/num_people_age\n",
        "print(avg_purch_age)\n",
        "\n",
        "\n",
        "val_purch_age = data.groupby('Age').sum()['Purchase']\n",
        "num_people_age = unique_users_age.groupby('Age').count()['User_ID']\n",
        "\n",
        "val_purch_age = val_purch_age/num_purch_age\n",
        "\n",
        "print(val_purch_age)\n",
        "\n",
        "\n",
        "\n",
        "\n",
        "\n",
        "plt.subplot(1, 2, 1)\n",
        "\n",
        "plt.bar(avg_purch_age.index, avg_purch_age.values, color=c)\n",
        "plt.title('Avg Number of Purchases')\n",
        "\n",
        "plt.subplot(1, 2, 2)\n",
        "\n",
        "plt.bar(val_purch_age.index, val_purch_age.values, color=c)\n",
        "plt.title('Avg Value of Purchases')\n",
        "\n",
        "\n",
        "plt.show()"
      ],
      "execution_count": 0,
      "outputs": [
        {
          "output_type": "stream",
          "text": [
            "Age\n",
            "0-17      69.275229\n",
            "18-25     93.227315\n",
            "26-35    106.959084\n",
            "36-45     94.269923\n",
            "46-50     86.065913\n",
            "51-55     80.043659\n",
            "55+       57.806452\n",
            "Name: User_ID, dtype: float64\n",
            "Age\n",
            "0-17     8933.464640\n",
            "18-25    9169.663606\n",
            "26-35    9252.690633\n",
            "36-45    9331.350695\n",
            "46-50    9208.625697\n",
            "51-55    9534.808031\n",
            "55+      9336.280459\n",
            "dtype: float64\n"
          ],
          "name": "stdout"
        },
        {
          "output_type": "display_data",
          "data": {
            "image/png": "[encoded data removed]",
            "text/plain": [
              "<Figure size 432x288 with 2 Axes>"
            ]
          },
          "metadata": {
            "tags": []
          }
        }
      ]
    },
    {
      "cell_type": "code",
      "metadata": {
        "id": "wKgZ_n_8aviS",
        "colab_type": "code",
        "outputId": "540583f7-655f-40e6-b1ff-5adf411b0172",
        "colab": {
          "base_uri": "https://localhost:8080/",
          "height": 165
        }
      },
      "source": [
        "data.head(2)"
      ],
      "execution_count": 0,
      "outputs": [
        {
          "output_type": "execute_result",
          "data": {
            "text/html": [
              "<div>\n",
              "<style scoped>\n",
              "    .dataframe tbody tr th:only-of-type {\n",
              "        vertical-align: middle;\n",
              "    }\n",
              "\n",
              "    .dataframe tbody tr th {\n",
              "        vertical-align: top;\n",
              "    }\n",
              "\n",
              "    .dataframe thead th {\n",
              "        text-align: right;\n",
              "    }\n",
              "</style>\n",
              "<table border=\"1\" class=\"dataframe\">\n",
              "  <thead>\n",
              "    <tr style=\"text-align: right;\">\n",
              "      <th></th>\n",
              "      <th>User_ID</th>\n",
              "      <th>Product_ID</th>\n",
              "      <th>Gender</th>\n",
              "      <th>Age</th>\n",
              "      <th>Occupation</th>\n",
              "      <th>City_Category</th>\n",
              "      <th>Stay_In_Current_City_Years</th>\n",
              "      <th>Marital_Status</th>\n",
              "      <th>Product_Category_1</th>\n",
              "      <th>Product_Category_2</th>\n",
              "      <th>Product_Category_3</th>\n",
              "      <th>Purchase</th>\n",
              "    </tr>\n",
              "  </thead>\n",
              "  <tbody>\n",
              "    <tr>\n",
              "      <th>0</th>\n",
              "      <td>1000001</td>\n",
              "      <td>P00069042</td>\n",
              "      <td>F</td>\n",
              "      <td>0-17</td>\n",
              "      <td>10</td>\n",
              "      <td>A</td>\n",
              "      <td>2</td>\n",
              "      <td>0</td>\n",
              "      <td>3</td>\n",
              "      <td>NaN</td>\n",
              "      <td>NaN</td>\n",
              "      <td>8370</td>\n",
              "    </tr>\n",
              "    <tr>\n",
              "      <th>1</th>\n",
              "      <td>1000001</td>\n",
              "      <td>P00248942</td>\n",
              "      <td>F</td>\n",
              "      <td>0-17</td>\n",
              "      <td>10</td>\n",
              "      <td>A</td>\n",
              "      <td>2</td>\n",
              "      <td>0</td>\n",
              "      <td>1</td>\n",
              "      <td>6.0</td>\n",
              "      <td>14.0</td>\n",
              "      <td>15200</td>\n",
              "    </tr>\n",
              "  </tbody>\n",
              "</table>\n",
              "</div>"
            ],
            "text/plain": [
              "   User_ID Product_ID Gender  ... Product_Category_2  Product_Category_3 Purchase\n",
              "0  1000001  P00069042      F  ...                NaN                 NaN     8370\n",
              "1  1000001  P00248942      F  ...                6.0                14.0    15200\n",
              "\n",
              "[2 rows x 12 columns]"
            ]
          },
          "metadata": {
            "tags": []
          },
          "execution_count": 17
        }
      ]
    },
    {
      "cell_type": "code",
      "metadata": {
        "id": "UOFW0hPmqNOE",
        "colab_type": "code",
        "outputId": "8b836ebf-99cc-4ad9-9fdd-8126673b6df6",
        "colab": {
          "base_uri": "https://localhost:8080/",
          "height": 366
        }
      },
      "source": [
        "# Do the same analysis for Gender and City Category\n",
        "# Gender\n",
        "\n",
        "num_purch_gender = data.groupby('Age','Gender').count()['User_ID']\n",
        "num_people_gender = unique_users_age.groupby('Age','Gender').count()['User_ID']\n",
        "\n",
        "avg_purch_gender = num_purch_gender/num_people_gender\n",
        "print(avg_purch_gender)\n",
        "\n",
        "\n",
        "plt.bar(avg_purch_gender.index, avg_purch_gender.values, color=c)\n",
        "plt.title('Avg Number of Gender')\n"
      ],
      "execution_count": 0,
      "outputs": [
        {
          "output_type": "stream",
          "text": [
            "Gender\n",
            "F    81.518007\n",
            "M    98.049467\n",
            "Name: User_ID, dtype: float64\n"
          ],
          "name": "stdout"
        },
        {
          "output_type": "execute_result",
          "data": {
            "text/plain": [
              "Text(0.5, 1.0, 'Avg Number of Gender')"
            ]
          },
          "metadata": {
            "tags": []
          },
          "execution_count": 18
        },
        {
          "output_type": "display_data",
          "data": {
            "image/png": "[encoded data removed]",
            "text/plain": [
              "<Figure size 432x288 with 1 Axes>"
            ]
          },
          "metadata": {
            "tags": []
          }
        }
      ]
    },
    {
      "cell_type": "code",
      "metadata": {
        "id": "yKWx7mZZbqJB",
        "colab_type": "code",
        "outputId": "7557de16-4114-411e-f821-696011b110e5",
        "colab": {
          "base_uri": "https://localhost:8080/",
          "height": 383
        }
      },
      "source": [
        "# Do the same analysis for Gender and City Category\n",
        "# Gender\n",
        "\n",
        "num_purch_city = data.groupby('City_Category').count()['User_ID']\n",
        "num_people_city = unique_users_age.groupby('City_Category').count()['User_ID']\n",
        "\n",
        "avg_purch_city = num_purch_city/num_people_city\n",
        "print(avg_purch_city)\n",
        "\n",
        "\n",
        "plt.bar(avg_purch_city.index, avg_purch_city.values, color=c)\n",
        "plt.title('Avg Number of city')"
      ],
      "execution_count": 0,
      "outputs": [
        {
          "output_type": "stream",
          "text": [
            "City_Category\n",
            "A    141.358852\n",
            "B    135.426479\n",
            "C     54.531698\n",
            "Name: User_ID, dtype: float64\n"
          ],
          "name": "stdout"
        },
        {
          "output_type": "execute_result",
          "data": {
            "text/plain": [
              "Text(0.5, 1.0, 'Avg Number of city')"
            ]
          },
          "metadata": {
            "tags": []
          },
          "execution_count": 20
        },
        {
          "output_type": "display_data",
          "data": {
            "image/png": "[encoded data removed]",
            "text/plain": [
              "<Figure size 432x288 with 1 Axes>"
            ]
          },
          "metadata": {
            "tags": []
          }
        }
      ]
    },
    {
      "cell_type": "code",
      "metadata": {
        "id": "k24H1W006Lqb",
        "colab_type": "code",
        "outputId": "170ed314-60ab-4e03-b2c4-2166d9d1a352",
        "colab": {
          "base_uri": "https://localhost:8080/",
          "height": 1000
        }
      },
      "source": [
        "# Correct distribution of City Category\n",
        "\n",
        "# Average number of purchases by age group and average value per age group\n",
        "num_purch_age = data.groupby(['Age','City_Category']).count()['User_ID']\n",
        "num_people_age = unique_users_age.groupby(['Age','City_Category']).count()['User_ID']\n",
        "\n",
        "avg_purch_age = num_purch_age/num_people_age\n",
        "print(avg_purch_age)\n",
        "\n",
        "\n",
        "val_purch_age = data.groupby(['Age','City_Category']).sum()['Purchase']\n",
        "num_people_age = unique_users_age.groupby(['Age','City_Category']).count()['User_ID']\n",
        "\n",
        "val_purch_age = val_purch_age/num_purch_age\n",
        "\n",
        "print(val_purch_age)\n",
        "\n",
        "\n",
        "\n",
        "avg_purch_age.unstack(level=0).plot(kind='bar')\n",
        "plt.title('Avg Number of Purchases')\n",
        "\n",
        "\n",
        "\n",
        "val_purch_age.unstack(level=0).plot(kind='bar')\n",
        "plt.title('Avg Value of Purchases')\n",
        "\n",
        "\n",
        "plt.show()"
      ],
      "execution_count": 0,
      "outputs": [
        {
          "output_type": "stream",
          "text": [
            "Age    City_Category\n",
            "0-17   A                101.760000\n",
            "       B                108.700000\n",
            "       C                 49.811189\n",
            "18-25  A                128.668224\n",
            "       B                130.655589\n",
            "       C                 55.110687\n",
            "26-35  A                159.967462\n",
            "       B                140.466258\n",
            "       C                 57.721277\n",
            "36-45  A                151.232955\n",
            "       B                142.083582\n",
            "       C                 54.570122\n",
            "46-50  A                143.528302\n",
            "       B                139.767123\n",
            "       C                 53.277108\n",
            "51-55  A                 91.029851\n",
            "       B                131.414815\n",
            "       C                 52.548387\n",
            "55+    A                 72.918367\n",
            "       B                 89.000000\n",
            "       C                 48.184906\n",
            "Name: User_ID, dtype: float64\n",
            "Age    City_Category\n",
            "0-17   A                8615.110456\n",
            "       B                8917.295308\n",
            "       C                9059.503299\n",
            "18-25  A                8833.734084\n",
            "       B                9031.706985\n",
            "       C                9696.570919\n",
            "26-35  A                8952.503004\n",
            "       B                9149.193178\n",
            "       C                9835.388993\n",
            "36-45  A                8990.333997\n",
            "       B                9107.901067\n",
            "       C                9882.012654\n",
            "46-50  A                8348.526752\n",
            "       B                9247.927129\n",
            "       C                9533.184023\n",
            "51-55  A                9508.505001\n",
            "       B                9340.911392\n",
            "       C                9780.380806\n",
            "55+    A                8485.945424\n",
            "       B                9803.560635\n",
            "       C                9385.316939\n",
            "dtype: float64\n"
          ],
          "name": "stdout"
        },
        {
          "output_type": "display_data",
          "data": {
            "image/png": "[encoded data removed]",
            "text/plain": [
              "<Figure size 432x288 with 1 Axes>"
            ]
          },
          "metadata": {
            "tags": []
          }
        },
        {
          "output_type": "display_data",
          "data": {
            "image/png": "[encoded data removed]",
            "text/plain": [
              "<Figure size 432x288 with 1 Axes>"
            ]
          },
          "metadata": {
            "tags": []
          }
        }
      ]
    },
    {
      "cell_type": "code",
      "metadata": {
        "id": "Lria6e7JhdP_",
        "colab_type": "code",
        "colab": {}
      },
      "source": [
        "# crisp pm"
      ],
      "execution_count": 0,
      "outputs": []
    },
    {
      "cell_type": "code",
      "metadata": {
        "id": "UpIUtePf6Ru3",
        "colab_type": "code",
        "colab": {}
      },
      "source": [
        "# Average number of purchases by gender and average value per purchase, per city category"
      ],
      "execution_count": 0,
      "outputs": []
    },
    {
      "cell_type": "code",
      "metadata": {
        "id": "UTJ7n46u6ZNN",
        "colab_type": "code",
        "colab": {}
      },
      "source": [
        "# Correct distribution of Gender"
      ],
      "execution_count": 0,
      "outputs": []
    },
    {
      "cell_type": "code",
      "metadata": {
        "id": "-bBr4Wo77C44",
        "colab_type": "code",
        "colab": {}
      },
      "source": [
        "# Average number of purchases by gender and average value per purchase, per gender"
      ],
      "execution_count": 0,
      "outputs": []
    },
    {
      "cell_type": "code",
      "metadata": {
        "id": "cq9ehh8q7NQD",
        "colab_type": "code",
        "outputId": "da2497bb-64af-482a-a6ca-5dff3e57bd72",
        "colab": {
          "base_uri": "https://localhost:8080/",
          "height": 1000
        }
      },
      "source": [
        "#Analysis by Age and Gender\n",
        "\n",
        "\n",
        "# Average number of purchases by age group and average value per age group\n",
        "num_purch_age = data.groupby(['Age','Gender']).count()['User_ID']\n",
        "num_people_age = unique_users_age.groupby(['Age','Gender']).count()['User_ID']\n",
        "\n",
        "avg_purch_age = num_purch_age/num_people_age\n",
        "print(avg_purch_age)\n",
        "\n",
        "\n",
        "val_purch_age = data.groupby(['Age','Gender']).sum()['Purchase']\n",
        "num_people_age = unique_users_age.groupby(['Age','Gender']).count()['User_ID']\n",
        "\n",
        "val_purch_age = val_purch_age/num_purch_age\n",
        "\n",
        "print(val_purch_age)\n",
        "\n",
        "\n",
        "\n",
        "avg_purch_age.unstack(level=0).plot(kind='bar')\n",
        "plt.title('Avg Number of Purchases')\n",
        "\n",
        "\n",
        "\n",
        "val_purch_age.unstack(level=0).plot(kind='bar')\n",
        "plt.title('Avg Value of Purchases')\n",
        "\n",
        "\n",
        "plt.show()"
      ],
      "execution_count": 0,
      "outputs": [
        {
          "output_type": "stream",
          "text": [
            "Age    Gender\n",
            "0-17   F          65.166667\n",
            "       M          71.564286\n",
            "18-25  F          85.811847\n",
            "       M          95.948849\n",
            "26-35  F          93.122936\n",
            "       M         111.959549\n",
            "36-45  F          81.591592\n",
            "       M          99.332134\n",
            "46-50  F          72.521978\n",
            "       M          93.128940\n",
            "51-55  F          69.676056\n",
            "       M          84.386431\n",
            "55+    F          51.343434\n",
            "       M          60.150183\n",
            "Name: User_ID, dtype: float64\n",
            "Age    Gender\n",
            "0-17   F         8338.771985\n",
            "       M         9235.173670\n",
            "18-25  F         8343.180201\n",
            "       M         9440.942971\n",
            "26-35  F         8728.251754\n",
            "       M         9410.337578\n",
            "36-45  F         8959.844056\n",
            "       M         9453.193643\n",
            "46-50  F         8842.098947\n",
            "       M         9357.471509\n",
            "51-55  F         9042.449666\n",
            "       M         9705.094802\n",
            "55+    F         9007.036199\n",
            "       M         9438.195603\n",
            "dtype: float64\n"
          ],
          "name": "stdout"
        },
        {
          "output_type": "display_data",
          "data": {
            "image/png": "[encoded data removed]",
            "text/plain": [
              "<Figure size 432x288 with 1 Axes>"
            ]
          },
          "metadata": {
            "tags": []
          }
        },
        {
          "output_type": "display_data",
          "data": {
            "image/png": "[encoded data removed]",
            "text/plain": [
              "<Figure size 432x288 with 1 Axes>"
            ]
          },
          "metadata": {
            "tags": []
          }
        }
      ]
    },
    {
      "cell_type": "code",
      "metadata": {
        "id": "KlUzUjEi7lTS",
        "colab_type": "code",
        "colab": {}
      },
      "source": [
        "# Do the Same for City and Gender"
      ],
      "execution_count": 0,
      "outputs": []
    },
    {
      "cell_type": "code",
      "metadata": {
        "id": "RZjfsj4596-D",
        "colab_type": "code",
        "outputId": "8ca38d1d-76e4-4ca3-f328-0d9b30e9ef20",
        "colab": {
          "base_uri": "https://localhost:8080/",
          "height": 134
        }
      },
      "source": [
        "# So far we have been looking into averages. Now let's check the dispersion. Here is were the actual value is\n",
        "\n",
        "# Dispersion of the total value purchased by Id and Age\n",
        "\n",
        "age_groups = data['Age'].unique()\n",
        "\n",
        "for item in age_groups:\n",
        "  temp = data[data['Age'] == item]\n",
        "  average = np.mean(temp['Purchase'])\n",
        "  stdev = np.std(temp['Purchase'])\n",
        "  \n",
        "  print(item,average,stdev)\n",
        "  \n",
        "  "
      ],
      "execution_count": 0,
      "outputs": [
        {
          "output_type": "stream",
          "text": [
            "0-17 8933.464640444974 5110.944823427657\n",
            "55+ 9336.280459449405 5011.377469555721\n",
            "26-35 9252.690632869888 5010.515894010119\n",
            "46-50 9208.625697468327 4967.162022122683\n",
            "51-55 9534.808030960236 5087.3020111738415\n",
            "36-45 9331.350694917874 5022.901050378541\n",
            "18-25 9169.663606261289 5034.296739627781\n"
          ],
          "name": "stdout"
        }
      ]
    },
    {
      "cell_type": "code",
      "metadata": {
        "id": "1hIqMiKdGf2i",
        "colab_type": "code",
        "outputId": "a9a95f37-ae97-44a3-8b7a-5d62bffb2325",
        "colab": {
          "base_uri": "https://localhost:8080/",
          "height": 353
        }
      },
      "source": [
        "plt.hist(data[(data['Age']=='0-17') & (data['City_Category'] == 'A')]['Purchase'])"
      ],
      "execution_count": 0,
      "outputs": [
        {
          "output_type": "execute_result",
          "data": {
            "text/plain": [
              "(array([255., 271., 676., 435., 341., 148., 239.,  39., 121.,  19.]),\n",
              " array([1.40000e+01, 2.39730e+03, 4.78060e+03, 7.16390e+03, 9.54720e+03,\n",
              "        1.19305e+04, 1.43138e+04, 1.66971e+04, 1.90804e+04, 2.14637e+04,\n",
              "        2.38470e+04]),\n",
              " <a list of 10 Patch objects>)"
            ]
          },
          "metadata": {
            "tags": []
          },
          "execution_count": 220
        },
        {
          "output_type": "display_data",
          "data": {
            "image/png": "[encoded data removed]",
            "text/plain": [
              "<Figure size 432x288 with 1 Axes>"
            ]
          },
          "metadata": {
            "tags": []
          }
        }
      ]
    },
    {
      "cell_type": "code",
      "metadata": {
        "id": "WqUvLilrG5vV",
        "colab_type": "code",
        "colab": {}
      },
      "source": [
        "# Play around and find some information"
      ],
      "execution_count": 0,
      "outputs": []
    },
    {
      "cell_type": "code",
      "metadata": {
        "id": "GkcCEQXpJdDt",
        "colab_type": "code",
        "colab": {}
      },
      "source": [
        "# find the three most probable categories by Age\n"
      ],
      "execution_count": 0,
      "outputs": []
    },
    {
      "cell_type": "code",
      "metadata": {
        "id": "hZBUKbkXKTzY",
        "colab_type": "code",
        "colab": {}
      },
      "source": [
        "# homework\n",
        "\n",
        "# for each age, three product catagories that are most probable has hignest probability."
      ],
      "execution_count": 0,
      "outputs": []
    },
    {
      "cell_type": "code",
      "metadata": {
        "id": "GpwijoDZjkdL",
        "colab_type": "code",
        "outputId": "c38a9152-bd8b-420b-f527-0ef41dabcc6f",
        "colab": {
          "base_uri": "https://localhost:8080/",
          "height": 51
        }
      },
      "source": [
        "data['Product_Category_1'].unique()\n"
      ],
      "execution_count": 0,
      "outputs": [
        {
          "output_type": "execute_result",
          "data": {
            "text/plain": [
              "array([ 3,  1, 12,  8,  5,  4,  2,  6, 14, 11, 13, 15,  7, 16, 18, 10, 17,\n",
              "        9, 20, 19])"
            ]
          },
          "metadata": {
            "tags": []
          },
          "execution_count": 26
        }
      ]
    },
    {
      "cell_type": "code",
      "metadata": {
        "id": "qyrX191HjnbA",
        "colab_type": "code",
        "outputId": "52daf0d9-42a7-497f-9022-f36df7d5e47b",
        "colab": {
          "base_uri": "https://localhost:8080/",
          "height": 51
        }
      },
      "source": [
        "data['Product_Category_2'].unique()\n"
      ],
      "execution_count": 0,
      "outputs": [
        {
          "output_type": "execute_result",
          "data": {
            "text/plain": [
              "array([nan,  6., 14.,  2.,  8., 15., 16., 11.,  5.,  3.,  4., 12.,  9.,\n",
              "       10., 17., 13.,  7., 18.])"
            ]
          },
          "metadata": {
            "tags": []
          },
          "execution_count": 27
        }
      ]
    },
    {
      "cell_type": "code",
      "metadata": {
        "id": "vjfWtk24jzdr",
        "colab_type": "code",
        "outputId": "0fe93bdb-e076-411a-9e50-7af8fbad31b2",
        "colab": {
          "base_uri": "https://localhost:8080/",
          "height": 51
        }
      },
      "source": [
        "data['Product_Category_3'].unique()"
      ],
      "execution_count": 0,
      "outputs": [
        {
          "output_type": "execute_result",
          "data": {
            "text/plain": [
              "array([nan, 14., 17.,  5.,  4., 16., 15.,  8.,  9., 13.,  6., 12.,  3.,\n",
              "       18., 11., 10.])"
            ]
          },
          "metadata": {
            "tags": []
          },
          "execution_count": 28
        }
      ]
    },
    {
      "cell_type": "code",
      "metadata": {
        "id": "iMEZkRtMj17I",
        "colab_type": "code",
        "colab": {}
      },
      "source": [
        ""
      ],
      "execution_count": 0,
      "outputs": []
    }
  ]
}