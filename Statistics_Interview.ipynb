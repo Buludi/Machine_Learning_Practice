{
  "nbformat": 4,
  "nbformat_minor": 0,
  "metadata": {
    "colab": {
      "name": "Statistics_Interview.ipynb",
      "provenance": [],
      "include_colab_link": true
    },
    "kernelspec": {
      "name": "python3",
      "display_name": "Python 3"
    }
  },
  "cells": [
    {
      "cell_type": "markdown",
      "metadata": {
        "id": "view-in-github",
        "colab_type": "text"
      },
      "source": [
        "<a href=\"https://colab.research.google.com/github/cyuancheng/Machine_Learning_Practice/blob/master/Statistics_Interview.ipynb\" target=\"_parent\"><img src=\"https://colab.research.google.com/assets/colab-badge.svg\" alt=\"Open In Colab\"/></a>"
      ]
    },
    {
      "cell_type": "markdown",
      "metadata": {
        "id": "daQnlKjD19VP",
        "colab_type": "text"
      },
      "source": [
        "Simulating central limit theorem\n",
        "- This will always be the case when we have a large enough sample (typically above 30). That's the central limit theorem at work."
      ]
    },
    {
      "cell_type": "code",
      "metadata": {
        "id": "x-2ro_wp1Zhl",
        "colab_type": "code",
        "colab": {
          "base_uri": "https://localhost:8080/",
          "height": 269
        },
        "outputId": "1a8b6e91-cb1c-468b-ef1d-3f6b07b05b3a"
      },
      "source": [
        "#Create a list named means with 1000 sample means from samples of 30 rolled dice by using list comprehension.\n",
        "\n",
        "from numpy.random import randint\n",
        "import matplotlib.pyplot as plt\n",
        "# Adapt code for 100 samples of size 30\n",
        "means = [randint(1, 7, 30).mean() for i in range(1000)]  # \n",
        " \n",
        "# Create and show a histogram of the means\n",
        "plt.hist(means, bins=10)\n",
        "plt.show()"
      ],
      "execution_count": 11,
      "outputs": [
        {
          "output_type": "display_data",
          "data": {
            "image/png": "[encoded data removed]",
            "text/plain": [
              "<Figure size 432x288 with 1 Axes>"
            ]
          },
          "metadata": {
            "tags": []
          }
        }
      ]
    },
    {
      "cell_type": "markdown",
      "metadata": {
        "id": "cA_X24T44g4x",
        "colab_type": "text"
      },
      "source": [
        ""
      ]
    },
    {
      "cell_type": "code",
      "metadata": {
        "id": "ajqKqedp1sG0",
        "colab_type": "code",
        "colab": {
          "base_uri": "https://localhost:8080/",
          "height": 269
        },
        "outputId": "6866141b-efad-44ab-938f-7520a2c41c17"
      },
      "source": [
        "# Generate bernoulli data\n",
        "from scipy.stats import bernoulli\n",
        "data = bernoulli.rvs(p=0.5, size=1000)\n",
        "\n",
        "# Plot distribution\n",
        "plt.hist(data)\n",
        "plt.show()"
      ],
      "execution_count": 13,
      "outputs": [
        {
          "output_type": "display_data",
          "data": {
            "image/png": "[encoded data removed]",
            "text/plain": [
              "<Figure size 432x288 with 1 Axes>"
            ]
          },
          "metadata": {
            "tags": []
          }
        }
      ]
    },
    {
      "cell_type": "code",
      "metadata": {
        "id": "a26wU53T4iAh",
        "colab_type": "code",
        "colab": {
          "base_uri": "https://localhost:8080/",
          "height": 303
        },
        "outputId": "cf0c56a7-5f96-4584-e502-3e478bab369a"
      },
      "source": [
        "# Generate binomial data\n",
        "from scipy.stats import binom\n",
        "data = binom.rvs(n=10, p=0.8, size=1000)\n",
        "\n",
        "# Plot the distribution\n",
        "plt.hist(data)\n",
        "plt.show()\n",
        "\n",
        "# Assign and print probability of 8 or less successes\n",
        "prob1 = binom.cdf(k=8, n=10, p=0.8)\n",
        "print(prob1)\n",
        "\n",
        "# Assign and print probability of all 10 successes\n",
        "prob2 = binom.pmf(k=10, n=10, p=0.8)\n",
        "print(prob2)"
      ],
      "execution_count": 14,
      "outputs": [
        {
          "output_type": "display_data",
          "data": {
            "image/png": "[encoded data removed]",
            "text/plain": [
              "<Figure size 432x288 with 1 Axes>"
            ]
          },
          "metadata": {
            "tags": []
          }
        },
        {
          "output_type": "stream",
          "text": [
            "0.6241903616\n",
            "0.10737418240000005\n"
          ],
          "name": "stdout"
        }
      ]
    },
    {
      "cell_type": "code",
      "metadata": {
        "id": "eZenL5c75fFy",
        "colab_type": "code",
        "colab": {
          "base_uri": "https://localhost:8080/",
          "height": 303
        },
        "outputId": "ba3b6c00-c581-497d-8929-064fbcdb53b0"
      },
      "source": [
        "# Generate normal data\n",
        "from scipy.stats import norm\n",
        "data = norm.rvs(size=1000)\n",
        "\n",
        "# Plot distribution\n",
        "plt.hist(data)\n",
        "plt.show()\n",
        "\n",
        "# Compute and print true probability for greater than 2\n",
        "true_prob = 1 - norm.cdf(2)\n",
        "print(true_prob)\n",
        "\n",
        "# Compute and print sample probability for greater than 2\n",
        "sample_prob = sum(obs > 2 for obs in data) / len(data)\n",
        "print(sample_prob )"
      ],
      "execution_count": 15,
      "outputs": [
        {
          "output_type": "display_data",
          "data": {
            "image/png": "[encoded data removed]",
            "text/plain": [
              "<Figure size 432x288 with 1 Axes>"
            ]
          },
          "metadata": {
            "tags": []
          }
        },
        {
          "output_type": "stream",
          "text": [
            "0.02275013194817921\n",
            "0.028\n"
          ],
          "name": "stdout"
        }
      ]
    },
    {
      "cell_type": "code",
      "metadata": {
        "id": "_3OCbH6M7wcG",
        "colab_type": "code",
        "colab": {}
      },
      "source": [
        ""
      ],
      "execution_count": 0,
      "outputs": []
    }
  ]
}